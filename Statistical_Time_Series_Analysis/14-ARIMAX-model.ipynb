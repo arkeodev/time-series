{
 "cells": [
  {
   "cell_type": "markdown",
   "metadata": {
    "colab_type": "text",
    "id": "view-in-github"
   },
   "source": [
    "<a href=\"https://colab.research.google.com/github/arkeodev/time-series/blob/main/Statistical_Time_Series_Analysis/14-ARIMAX-model.ipynb\" target=\"_parent\"><img src=\"https://colab.research.google.com/assets/colab-badge.svg\" alt=\"Open In Colab\"/></a>"
   ]
  },
  {
   "cell_type": "markdown",
   "metadata": {},
   "source": [
    "# 14. ARIMAX Models"
   ]
  },
  {
   "cell_type": "markdown",
   "metadata": {},
   "source": [
    "## 1. Introduction"
   ]
  },
  {
   "cell_type": "markdown",
   "metadata": {},
   "source": [
    "The ARIMAX model stands for Autoregressive Integrated Moving Average with eXogenous inputs model. It is an extension of the ARIMA model, which includes external factors."
   ]
  },
  {
   "cell_type": "markdown",
   "metadata": {},
   "source": [
    "In ARIMAX, the ‘X’ refers to the exogenous variables, which are external factors or covariates that might influence the time series. These variables can include anything relevant that could impact the response variable you are trying to forecast but is not directly part of the series. \n",
    "\n",
    "For instance, if you were predicting demand for umbrellas, an exogenous variable might be rainfall. Unlike endogenous variables in ARIMA, exogenous variables are not predicted by the model but are included in the model to help improve the accuracy of predictions."
   ]
  },
  {
   "cell_type": "markdown",
   "metadata": {},
   "source": [
    "## 2. Mathematical Notation"
   ]
  },
  {
   "cell_type": "markdown",
   "metadata": {},
   "source": [
    "In mathematical terms, the ARIMAX model is written as:\n",
    "\n",
    "$$\n",
    "\\Delta P_t = c + \\phi_1 \\Delta P_{t-1} + \\theta_1 \\varepsilon_{t-1} + \\beta X_t + \\varepsilon_t\n",
    "$$\n",
    "\n",
    "Where:\n",
    "- $ \\Delta P_t $ is the differenced time series value at time t.\n",
    "- $ c $ is a constant.\n",
    "- $ \\phi_1 $ is the coefficient for the first lag of the differenced series.\n",
    "- $ \\theta_1 $ is the coefficient for the first lag of the error term.\n",
    "- $ \\beta $ is the coefficient for the exogenous variable $ X_t $.\n",
    "- $ \\varepsilon_t $ is the error term (residuals of the model)."
   ]
  },
  {
   "cell_type": "markdown",
   "metadata": {},
   "source": [
    "## 3. Practical Considerations"
   ]
  },
  {
   "cell_type": "markdown",
   "metadata": {},
   "source": [
    "1. The exogenous variable $ X $ can be:\n",
    "- A **time-varying measurement** (e.g., temperature, economic indicators).\n",
    "- A **categorical variable** (e.g., day of the week, event occurrence).\n",
    "- A **boolean value** (e.g., presence or absence of an event).\n",
    "- A combination of several different factors.\n",
    "\n",
    "2. It's important that for ARIMAX,**you must have data** for the exogenous variables for every period you're trying to model.\n",
    "\n",
    "3. When incorporating exogenous variables, it’s crucial to ensure that these factors are indeed influential to the model and are **not just noise**. Overfitting the model with irrelevant X variables can lead to poor predictive performance."
   ]
  },
  {
   "cell_type": "markdown",
   "metadata": {},
   "source": [
    "## 4. Implementation"
   ]
  },
  {
   "cell_type": "code",
   "execution_count": 1,
   "metadata": {},
   "outputs": [
    {
     "name": "stdout",
     "output_type": "stream",
     "text": [
      "RUNNING THE L-BFGS-B CODE\n",
      "\n",
      "           * * *\n",
      "\n",
      "Machine precision = 2.220D-16\n",
      " N =            4     M =           10\n",
      "\n",
      "At X0         0 variables are exactly at the bounds\n",
      "\n",
      "At iterate    0    f=  1.30539D+00    |proj g|=  1.17406D-02\n",
      "\n",
      "At iterate    5    f=  1.30527D+00    |proj g|=  1.49366D-03\n",
      "\n",
      "At iterate   10    f=  1.30520D+00    |proj g|=  6.14288D-03\n",
      "\n",
      "At iterate   15    f=  1.30518D+00    |proj g|=  1.05106D-05\n",
      "\n",
      "           * * *\n",
      "\n",
      "Tit   = total number of iterations\n",
      "Tnf   = total number of function evaluations\n",
      "Tnint = total number of segments explored during Cauchy searches\n",
      "Skip  = number of BFGS updates skipped\n",
      "Nact  = number of active bounds at final generalized Cauchy point\n",
      "Projg = norm of the final projected gradient\n",
      "F     = final function value\n",
      "\n",
      "           * * *\n",
      "\n",
      "   N    Tit     Tnf  Tnint  Skip  Nact     Projg        F\n",
      "    4     15     27      1     0     0   1.051D-05   1.305D+00\n",
      "  F =   1.3051781967717191     \n",
      "\n",
      "CONVERGENCE: REL_REDUCTION_OF_F_<=_FACTR*EPSMCH             \n",
      "                               SARIMAX Results                                \n",
      "==============================================================================\n",
      "Dep. Variable:                      y   No. Observations:                  100\n",
      "Model:               SARIMAX(1, 1, 1)   Log Likelihood                -130.518\n",
      "Date:                Thu, 02 Jan 2025   AIC                            269.036\n",
      "Time:                        17:44:50   BIC                            279.416\n",
      "Sample:                             0   HQIC                           273.236\n",
      "                                - 100                                         \n",
      "Covariance Type:                  opg                                         \n",
      "==============================================================================\n",
      "                 coef    std err          z      P>|z|      [0.025      0.975]\n",
      "------------------------------------------------------------------------------\n",
      "x1            -0.1323      0.087     -1.523      0.128      -0.302       0.038\n",
      "ar.L1          0.2546      3.234      0.079      0.937      -6.083       6.592\n",
      "ma.L1         -0.2875      3.190     -0.090      0.928      -6.540       5.965\n",
      "sigma2         0.8178      0.125      6.543      0.000       0.573       1.063\n",
      "===================================================================================\n",
      "Ljung-Box (L1) (Q):                   0.02   Jarque-Bera (JB):                 0.22\n",
      "Prob(Q):                              0.90   Prob(JB):                         0.90\n",
      "Heteroskedasticity (H):               0.85   Skew:                            -0.04\n",
      "Prob(H) (two-sided):                  0.64   Kurtosis:                         2.78\n",
      "===================================================================================\n",
      "\n",
      "Warnings:\n",
      "[1] Covariance matrix calculated using the outer product of gradients (complex-step).\n"
     ]
    },
    {
     "name": "stderr",
     "output_type": "stream",
     "text": [
      " This problem is unconstrained.\n"
     ]
    }
   ],
   "source": [
    "import numpy as np\n",
    "import pandas as pd\n",
    "from statsmodels.tsa.statespace.sarimax import SARIMAX\n",
    "import matplotlib.pyplot as plt\n",
    "\n",
    "# -----------------------------------------------------------------------------------\n",
    "# Step 1: Set Seed for Reproducibility\n",
    "# -----------------------------------------------------------------------------------\n",
    "# Setting a random seed ensures that the randomly generated values \n",
    "# are the same each time you run this script, making your results reproducible.\n",
    "# -----------------------------------------------------------------------------------\n",
    "np.random.seed(42)\n",
    "\n",
    "# -----------------------------------------------------------------------------------\n",
    "# Step 2: Generate a Series y that Follows an Integrated Process\n",
    "# -----------------------------------------------------------------------------------\n",
    "# We aim to mimic an ARIMA(1, 1, 1) process. In such a process:\n",
    "#   - The series is differenced once (d=1) to become stationary.\n",
    "#   - There is one AR(1) term, meaning today's value depends on yesterday's value.\n",
    "#   - There is one MA(1) term, meaning today's value depends on yesterday's shock.\n",
    "#\n",
    "# For demonstration, we:\n",
    "#   - Create AR and MA parameter arrays.\n",
    "#   - Generate random noise and apply a cumulative sum to create a non-stationary series.\n",
    "# Note: The direct usage of ar_params and ma_params here is symbolic rather than fully\n",
    "# generating a strict ARIMA(1,1,1) using those exact parameters with noise. Instead, \n",
    "# we simulate an integrated process (random walk-like) to illustrate an ARIMA setup.\n",
    "# -----------------------------------------------------------------------------------\n",
    "ar_params = np.array([0.5])    # AR(1) parameter\n",
    "ma_params = np.array([-0.3])   # MA(1) parameter\n",
    "ar = np.r_[1, -ar_params]      # Becomes [1, -0.5]\n",
    "ma = np.r_[1, ma_params]       # Becomes [1, -0.3]\n",
    "\n",
    "# Here we create a random walk by cumulatively summing white noise.\n",
    "# The result is a non-stationary series that would require differencing.\n",
    "y = np.random.normal(loc=0, scale=1, size=100).cumsum()\n",
    "\n",
    "# -----------------------------------------------------------------------------------\n",
    "# Step 3: Generate a Synthetic Exogenous Variable x\n",
    "# -----------------------------------------------------------------------------------\n",
    "# We create another 100-point series (e.g., representing an external factor like \n",
    "# temperature, a stock market index, etc.). \n",
    "# This variable is also constructed by taking a cumulative sum of random normal values.\n",
    "# -----------------------------------------------------------------------------------\n",
    "x = np.random.normal(loc=0, scale=1, size=100).cumsum()\n",
    "\n",
    "# -----------------------------------------------------------------------------------\n",
    "# Step 4: Fit an ARIMAX Model\n",
    "# -----------------------------------------------------------------------------------\n",
    "# In statsmodels, the SARIMAX class can be used to specify a model with exogenous variables.\n",
    "# - order=(1, 1, 1) indicates an ARIMA model with p=1, d=1, q=1.\n",
    "# - exog=x means we include the exogenous variable in the model, so it becomes ARIMAX.\n",
    "#\n",
    "# The exogenous variable, x, is expected to help explain part of the variation in y\n",
    "# that is not captured by the ARIMA components alone.\n",
    "# -----------------------------------------------------------------------------------\n",
    "model = SARIMAX(y, order=(1, 1, 1), exog=x)\n",
    "results = model.fit()\n",
    "\n",
    "# -----------------------------------------------------------------------------------\n",
    "# Step 5: Summarize the Model Results\n",
    "# -----------------------------------------------------------------------------------\n",
    "# This includes parameter estimates (for AR, MA, and the exogenous variable's coefficient),\n",
    "# as well as diagnostics like AIC and BIC for model comparison.\n",
    "# -----------------------------------------------------------------------------------\n",
    "print(results.summary())\n"
   ]
  },
  {
   "cell_type": "markdown",
   "metadata": {},
   "source": [
    "*ARIMAX vs. SARIMAX:*\n",
    "\n",
    "While the model is commonly referred to as ARIMAX (ARIMA with exogenous variables), in statsmodels, the SARIMAX class is used because it can handle both seasonal and non-seasonal ARIMA components and exogenous regressors. For a simple ARIMAX (non-seasonal, with exogenous variables), you just set seasonal parameters to zero or omit them."
   ]
  },
  {
   "cell_type": "markdown",
   "metadata": {},
   "source": [
    "## 5. Results Interpretation"
   ]
  },
  {
   "cell_type": "markdown",
   "metadata": {},
   "source": [
    "Here’s a **summary** of the model’s output:\n",
    "\n",
    "1. **Model & Fit**  \n",
    "   - **SARIMAX(1,1,1) with exogenous (x1)**  \n",
    "   - **Converged** in 15 iterations using L-BFGS-B.  \n",
    "   - **Log Likelihood:** $(-130.518$, **AIC:** 269.036, **BIC:** 279.416.\n",
    "\n",
    "2. **Key Parameters**  \n",
    "   - **x1 Coefficient:** $(-0.1323$, $p=0.128$) → Not statistically significant.  \n",
    "   - **AR(1) Coefficient:** $(0.2546$, $p=0.937$) → Not significant.  \n",
    "   - **MA(1) Coefficient:** $(-0.2875$, $p=0.928$) → Not significant.  \n",
    "   - **$(\\sigma^2)$ (Error Variance):** $(0.8178$, $p<0.001$) → Significant.\n",
    "\n",
    "3. **Diagnostics**  \n",
    "   - **Ljung-Box (Q):** $(p=0.90$) → No significant autocorrelation in residuals.  \n",
    "   - **Jarque-Bera (JB):** $(p=0.90$) → Residuals appear normally distributed.  \n",
    "   - **Heteroskedasticity (H):** $(p=0.64$) → No evidence of changing variance."
   ]
  },
  {
   "cell_type": "markdown",
   "metadata": {},
   "source": [
    "\n",
    "**Takeaways**\n",
    "\n",
    "1. **Insignificant AR and MA Terms**  \n",
    "   - The large standard errors and high p-values suggest that neither AR(1) nor MA(1) terms are strongly identified in this data sample. It could be that the integrated random walk structure is overshadowing the AR/MA components, or there isn’t enough strong signal in 100 points to precisely pin down those parameters.\n",
    "\n",
    "2. **Non-Significant Exogenous Variable**  \n",
    "   - The exogenous predictor `x1` has a negative coefficient but also lacks statistical significance. In real-world scenarios, you might want more data or a more relevant exogenous series to see a stronger effect.\n",
    "\n",
    "3. **Residual Diagnostics**  \n",
    "   - High p-values in the Ljung-Box and Jarque-Bera tests suggest the residuals are not autocorrelated and look approximately normal, which is generally favorable for a time series model. \n",
    "\n",
    "4. **Potential Next Steps**  \n",
    "   - Try different orders (p, d, q) or add seasonal components if you suspect seasonal patterns.  \n",
    "   - Increase the dataset size or use a more strongly related exogenous variable if possible.  \n",
    "   - Compare the AIC/BIC to a simpler model (e.g., random walk with drift, ARIMA(1,1,0), etc.) to see if the exogenous variable meaningfully improves the fit.\n",
    "\n",
    "Overall, while the model residuals look okay based on diagnostic tests, the AR(1), MA(1), and exogenous coefficients are not significant. This might mean the data (or the way it was generated) does not truly contain strong AR, MA, or exogenous relationships—or that the sample size is too small to detect them precisely."
   ]
  }
 ],
 "metadata": {
  "kernelspec": {
   "display_name": "pytorch",
   "language": "python",
   "name": "python3"
  },
  "language_info": {
   "codemirror_mode": {
    "name": "ipython",
    "version": 3
   },
   "file_extension": ".py",
   "mimetype": "text/x-python",
   "name": "python",
   "nbconvert_exporter": "python",
   "pygments_lexer": "ipython3",
   "version": "3.11.5"
  }
 },
 "nbformat": 4,
 "nbformat_minor": 2
}
