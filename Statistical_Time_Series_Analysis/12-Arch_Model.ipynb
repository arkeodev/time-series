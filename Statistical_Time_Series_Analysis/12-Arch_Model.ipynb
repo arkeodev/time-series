{
 "cells": [
  {
   "cell_type": "markdown",
   "metadata": {},
   "source": [
    "# ARCH Models"
   ]
  },
  {
   "cell_type": "markdown",
   "metadata": {},
   "source": [
    "## What is ARCH?"
   ]
  },
  {
   "cell_type": "markdown",
   "metadata": {},
   "source": [
    "ARCH, which stands for Autoregressive Conditional Heteroskedasticity, is a model for forecasting the variance of a time series that is conditional on past errors. It was introduced by Robert Engle in 1982, for which he won the Nobel Prize in Economics. ARCH models are used particularly in financial time series analysis, where the goal is to model and predict future volatility based on past patterns of volatility. An ARCH model predicts the variance at time t as a function of the squares of the previous periods’ errors up to q lags:\n",
    "\n",
    "$$\n",
    "\\sigma_t^2 = \\alpha_0 + \\alpha_1 \\epsilon_{t-1}^2 + \\alpha_2 \\epsilon_{t-2}^2 + ... + \\alpha_q \\epsilon_{t-q}^2\n",
    "$$\n",
    "\n",
    "Where $ \\sigma_t^2 $ is the conditional variance (a proxy for volatility), $ \\epsilon $ are the residuals from a mean equation, $ \\alpha_0 $ is a constant term, and $ \\alpha_1 $, ... ,$ \\alpha_q $ are the weights for the squared residuals. These models are particularly useful when the error terms have a tendency to cluster, indicating that high or low volatility in one period correlates with similar levels of volatility in subsequent periods.\n",
    "\n",
    "Unlike models that predict the actual values in a series, ARCH focuses on the variance of the series, forecasting periods of expected volatility — crucial for risk management and option pricing in financial markets."
   ]
  },
  {
   "cell_type": "markdown",
   "metadata": {},
   "source": [
    "## What is Volatility?"
   ]
  },
  {
   "cell_type": "markdown",
   "metadata": {},
   "source": [
    "- Autoregressive models can be developed for univariate time-series data that is stationary (AR), has a trend (ARIMA), and has a seasonal component (SARIMA). But, these Autoregressive models do not model is a change in the variance over time.\n",
    "\n",
    "- The error terms in the stochastic processes generating the time series were homoscedastic, i.e. with constant variance.\n",
    "\n",
    "- There are some time series where the variance changes consistently over time. In the context of a time series in the financial domain, this would be called **increasing and decreasing volatility**.\n",
    "\n",
    "- High volatility indicates that the price of the security can change dramatically over a short time period in either direction, which signifies a higher risk. Conversely, low volatility implies that a security's value does not fluctuate dramatically and tends to be more stable."
   ]
  },
  {
   "cell_type": "markdown",
   "metadata": {},
   "source": [
    "## What is Heteroskedasticity?"
   ]
  },
  {
   "cell_type": "markdown",
   "metadata": {},
   "source": [
    "\n",
    "Heteroskedasticity occurs when the variance of errors or the spread of residuals within a dataset is not consistent across all levels of an independent variable. In simple terms, it means that the size of the error differs across values of an independent variable. \n",
    "\n",
    "In the context of time series, heteroskedasticity often manifests as **volatility clustering** where periods of high volatility are followed by high volatility and periods of low volatility follow low volatility."
   ]
  },
  {
   "cell_type": "markdown",
   "metadata": {},
   "source": [
    "## Mathematical Foundation of ARCH"
   ]
  },
  {
   "cell_type": "markdown",
   "metadata": {},
   "source": [
    "The mathematical representation of an ARCH model is fairly straightforward. At its core, the ARCH model posits that the current period's error variance can be expressed as a function of past period squared errors. \n",
    "\n",
    "Let's take the ARCH(1) model as an example:\n",
    "\n",
    "$$\n",
    "\\sigma_t^2 = \\alpha_0 + \\alpha_1 \\epsilon_{t-1}^2\n",
    "$$\n",
    "\n",
    "Where:\n",
    "\n",
    "- $ \\sigma_t^2 $ is the current period's variance\n",
    "- $ \\alpha_0 $ is a constant (which must be positive to ensure positive variance)\n",
    "- $ \\alpha_1 $ is the coefficient that measures the impact of the last period's squared error on current variance\n",
    "- $ \\epsilon_{t-1}^2 $ is the previous period's squared error\n",
    "\n",
    "This model illustrates how past volatility influences current expectations. If, for instance, $ \\alpha_1 $ is high, then a large error in the last period will significantly increase the variance forecast for the current period, indicating high volatility."
   ]
  },
  {
   "cell_type": "markdown",
   "metadata": {},
   "source": [
    "## Code Implementation"
   ]
  },
  {
   "cell_type": "code",
   "execution_count": 9,
   "metadata": {},
   "outputs": [
    {
     "name": "stdout",
     "output_type": "stream",
     "text": [
      "ARCH Model\n",
      "                        Zero Mean - ARCH Model Results                        \n",
      "==============================================================================\n",
      "Dep. Variable:                      y   R-squared:                       0.000\n",
      "Mean Model:                 Zero Mean   Adj. R-squared:                  0.001\n",
      "Vol Model:                       ARCH   Log-Likelihood:               -822.840\n",
      "Distribution:                  Normal   AIC:                           1649.68\n",
      "Method:            Maximum Likelihood   BIC:                           1659.50\n",
      "                                        No. Observations:                 1000\n",
      "Date:                Mon, Apr 15 2024   Df Residuals:                     1000\n",
      "Time:                        15:29:48   Df Model:                            0\n",
      "                            Volatility Model                            \n",
      "========================================================================\n",
      "                 coef    std err          t      P>|t|  95.0% Conf. Int.\n",
      "------------------------------------------------------------------------\n",
      "omega          0.1974  1.430e-02     13.806  2.340e-43 [  0.169,  0.225]\n",
      "alpha[1]       0.4460  5.769e-02      7.731  1.070e-14 [  0.333,  0.559]\n",
      "========================================================================\n",
      "\n",
      "Covariance estimator: robust\n",
      "\n",
      "ARMA Model\n",
      "                               SARIMAX Results                                \n",
      "==============================================================================\n",
      "Dep. Variable:                      y   No. Observations:                 1000\n",
      "Model:                 ARIMA(1, 0, 1)   Log Likelihood                -886.300\n",
      "Date:                Mon, 15 Apr 2024   AIC                           1780.601\n",
      "Time:                        15:29:49   BIC                           1800.232\n",
      "Sample:                             0   HQIC                          1788.062\n",
      "                               - 1000                                         \n",
      "Covariance Type:                  opg                                         \n",
      "==============================================================================\n",
      "                 coef    std err          z      P>|z|      [0.025      0.975]\n",
      "------------------------------------------------------------------------------\n",
      "const          0.0061      0.017      0.360      0.719      -0.027       0.039\n",
      "ar.L1          0.7846      0.349      2.251      0.024       0.101       1.468\n",
      "ma.L1         -0.8040      0.338     -2.379      0.017      -1.466      -0.142\n",
      "sigma2         0.3446      0.013     26.883      0.000       0.319       0.370\n",
      "===================================================================================\n",
      "Ljung-Box (L1) (Q):                   0.03   Jarque-Bera (JB):                37.91\n",
      "Prob(Q):                              0.86   Prob(JB):                         0.00\n",
      "Heteroskedasticity (H):               1.17   Skew:                            -0.03\n",
      "Prob(H) (two-sided):                  0.16   Kurtosis:                         3.95\n",
      "===================================================================================\n",
      "\n",
      "Warnings:\n",
      "[1] Covariance matrix calculated using the outer product of gradients (complex-step).\n",
      "\n",
      "ARIMA Model\n",
      "                               SARIMAX Results                                \n",
      "==============================================================================\n",
      "Dep. Variable:                      y   No. Observations:                 1000\n",
      "Model:                 ARIMA(1, 1, 1)   Log Likelihood                -889.786\n",
      "Date:                Mon, 15 Apr 2024   AIC                           1785.573\n",
      "Time:                        15:29:49   BIC                           1800.293\n",
      "Sample:                             0   HQIC                          1791.168\n",
      "                               - 1000                                         \n",
      "Covariance Type:                  opg                                         \n",
      "==============================================================================\n",
      "                 coef    std err          z      P>|z|      [0.025      0.975]\n",
      "------------------------------------------------------------------------------\n",
      "ar.L1         -0.0120      0.023     -0.523      0.601      -0.057       0.033\n",
      "ma.L1         -0.9997      0.025    -40.787      0.000      -1.048      -0.952\n",
      "sigma2         0.3454      0.016     21.760      0.000       0.314       0.376\n",
      "===================================================================================\n",
      "Ljung-Box (L1) (Q):                   0.01   Jarque-Bera (JB):                39.56\n",
      "Prob(Q):                              0.94   Prob(JB):                         0.00\n",
      "Heteroskedasticity (H):               1.17   Skew:                            -0.05\n",
      "Prob(H) (two-sided):                  0.16   Kurtosis:                         3.97\n",
      "===================================================================================\n",
      "\n",
      "Warnings:\n",
      "[1] Covariance matrix calculated using the outer product of gradients (complex-step).\n",
      "\n",
      "SARIMAX Model\n",
      "                                     SARIMAX Results                                      \n",
      "==========================================================================================\n",
      "Dep. Variable:                                  y   No. Observations:                 1000\n",
      "Model:             SARIMAX(1, 0, 1)x(1, 0, 1, 12)   Log Likelihood                -886.233\n",
      "Date:                            Mon, 15 Apr 2024   AIC                           1782.466\n",
      "Time:                                    15:29:49   BIC                           1807.004\n",
      "Sample:                                         0   HQIC                          1791.792\n",
      "                                           - 1000                                         \n",
      "Covariance Type:                              opg                                         \n",
      "==============================================================================\n",
      "                 coef    std err          z      P>|z|      [0.025      0.975]\n",
      "------------------------------------------------------------------------------\n",
      "ar.L1          0.7140      0.459      1.557      0.120      -0.185       1.613\n",
      "ma.L1         -0.7357      0.448     -1.641      0.101      -1.614       0.143\n",
      "ar.S.L12      -0.3897      1.755     -0.222      0.824      -3.829       3.050\n",
      "ma.S.L12       0.3744      1.768      0.212      0.832      -3.092       3.840\n",
      "sigma2         0.3446      0.013     26.849      0.000       0.319       0.370\n",
      "===================================================================================\n",
      "Ljung-Box (L1) (Q):                   0.06   Jarque-Bera (JB):                38.01\n",
      "Prob(Q):                              0.81   Prob(JB):                         0.00\n",
      "Heteroskedasticity (H):               1.17   Skew:                            -0.03\n",
      "Prob(H) (two-sided):                  0.15   Kurtosis:                         3.95\n",
      "===================================================================================\n",
      "\n",
      "Warnings:\n",
      "[1] Covariance matrix calculated using the outer product of gradients (complex-step).\n",
      "\n",
      "Comparison of Log Likelihood:\n",
      "ARCH Log Likelihood: -822.8398168817578\n",
      "ARMA Log Likelihood: -886.3003080952228\n",
      "ARIMA Log Likelihood: -889.7863153547969\n",
      "SARIMAX Log Likelihood: -886.2327599333778\n"
     ]
    }
   ],
   "source": [
    "import numpy as np\n",
    "import matplotlib.pyplot as plt\n",
    "from arch import arch_model\n",
    "from statsmodels.tsa.arima.model import ARIMA\n",
    "from statsmodels.tsa.statespace.sarimax import SARIMAX\n",
    "\n",
    "# Set the random seed for reproducibility\n",
    "np.random.seed(42)\n",
    "\n",
    "# Define parameters for the ARCH process\n",
    "omega = 0.2  # Baseline volatility\n",
    "alpha = 0.5  # Reaction to past squared shocks\n",
    "\n",
    "# Simulate some data for the example\n",
    "T = 1000\n",
    "e = np.random.randn(T)  # Random shocks\n",
    "y = np.zeros_like(e)    # Initialize the series\n",
    "\n",
    "# Generate an ARCH(1) process\n",
    "for t in range(1, T):\n",
    "    y[t] = np.sqrt(omega + alpha * y[t-1]**2) * e[t]\n",
    "\n",
    "# Define the ARCH(1) model\n",
    "arch1_model = arch_model(y, mean='Zero', vol='ARCH', p=1)\n",
    "\n",
    "# Fit the ARCH model\n",
    "arch1_results = arch1_model.fit(disp='off')\n",
    "\n",
    "# Print the summary of the ARCH model fit\n",
    "print(\"ARCH Model\")\n",
    "print(arch1_results.summary())\n",
    "\n",
    "# Fit an ARMA model\n",
    "arma_model = ARIMA(y, order=(1, 0, 1))\n",
    "arma_results = arma_model.fit()\n",
    "\n",
    "# Fit an ARIMA model\n",
    "arima_model = ARIMA(y, order=(1, 1, 1))\n",
    "arima_results = arima_model.fit()\n",
    "\n",
    "# Fit a SARIMAX model\n",
    "sarimax_model = SARIMAX(y, order=(1, 0, 1), seasonal_order=(1, 0, 1, 12))\n",
    "sarimax_results = sarimax_model.fit(disp=False)\n",
    "\n",
    "# Print the summary of the ARMA, ARIMA and SARIMAX model fits\n",
    "print(\"\\nARMA Model\")\n",
    "print(arma_results.summary())\n",
    "print(\"\\nARIMA Model\")\n",
    "print(arima_results.summary())\n",
    "print(\"\\nSARIMAX Model\")\n",
    "print(sarimax_results.summary())\n",
    "\n",
    "# Compare Log Likelihood values\n",
    "print(\"\\nComparison of Log Likelihood:\")\n",
    "print(f\"ARCH Log Likelihood: {arch1_results.loglikelihood}\")\n",
    "print(f\"ARMA Log Likelihood: {arma_results.llf}\")\n",
    "print(f\"ARIMA Log Likelihood: {arima_results.llf}\")\n",
    "print(f\"SARIMAX Log Likelihood: {sarimax_results.llf}\")"
   ]
  },
  {
   "cell_type": "markdown",
   "metadata": {},
   "source": [
    "As can be seen from the log likelihood results and p values, model fits the data very well and it producess better results than the other models."
   ]
  },
  {
   "cell_type": "markdown",
   "metadata": {},
   "source": [
    "## Practical Considerations"
   ]
  },
  {
   "cell_type": "markdown",
   "metadata": {},
   "source": [
    "In applying ARCH models to real-world data, there are several considerations:\n",
    "\n",
    "- **Stationarity**: ARCH models should be applied to stationary series. Non-stationary data can be transformed using differencing or taking logarithms.\n",
    "- **Model Order**: The order (q) of an ARCH model should be determined based on the autocorrelation of squared residuals.\n",
    "- **Mean Equation**: Often, ARCH models are used in tandem with an ARMA model for the mean equation. This combined approach is known as ARMA-GARCH.\n",
    "\n",
    "Some of the real-time examples where ARCH model(s) applied: Stock prices, oil prices, bond prices, inflation rates, GDP, unemployment rates, etc."
   ]
  },
  {
   "cell_type": "markdown",
   "metadata": {},
   "source": [
    "\n",
    "## Conclusion"
   ]
  },
  {
   "cell_type": "markdown",
   "metadata": {},
   "source": [
    "ARCH models are essential in quantifying and forecasting the variance and volatility in time series data. They allow practitioners to make informed decisions on pricing and hedging financial instruments, thereby managing risks more effectively."
   ]
  }
 ],
 "metadata": {
  "kernelspec": {
   "display_name": "pytorch",
   "language": "python",
   "name": "python3"
  },
  "language_info": {
   "codemirror_mode": {
    "name": "ipython",
    "version": 3
   },
   "file_extension": ".py",
   "mimetype": "text/x-python",
   "name": "python",
   "nbconvert_exporter": "python",
   "pygments_lexer": "ipython3",
   "version": "3.11.5"
  }
 },
 "nbformat": 4,
 "nbformat_minor": 2
}
