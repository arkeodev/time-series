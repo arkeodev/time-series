{
 "cells": [
  {
   "cell_type": "markdown",
   "metadata": {
    "colab_type": "text",
    "id": "view-in-github"
   },
   "source": [
    "<a href=\"https://colab.research.google.com/github/arkeodev/time-series/blob/main/Statistical_Time_Series_Analysis/04-covariance-vs-pearson-correlation.ipynb\" target=\"_parent\"><img src=\"https://colab.research.google.com/assets/colab-badge.svg\" alt=\"Open In Colab\"/></a>"
   ]
  },
  {
   "cell_type": "markdown",
   "metadata": {},
   "source": [
    "## 04-Covariance vs. Pearson Correlation"
   ]
  },
  {
   "cell_type": "markdown",
   "metadata": {},
   "source": [
    "Pearson correlation and covariance are statistical measures used to evaluate the relationship between two variables. Let's explore these concepts theoretically, mathematically, and through Python code."
   ]
  },
  {
   "cell_type": "markdown",
   "metadata": {},
   "source": [
    "### Theoretical Explanation"
   ]
  },
  {
   "cell_type": "markdown",
   "metadata": {},
   "source": [
    "1. **Covariance**: Covariance is a measure that indicates the extent to which two variables change in tandem. A positive covariance indicates that the two variables tend to increase or decrease together, whereas a negative covariance suggests that one variable tends to increase when the other decreases.\n",
    "\n",
    "2. **Pearson Correlation**: Pearson correlation, also known as the Pearson correlation coefficient, is a measure of the linear relationship between two variables. It ranges from -1 to 1. A correlation of 1 means that there is a perfect positive linear relationship between variables, -1 means there is a perfect negative linear relationship, and 0 indicates no linear relationship between the two variables."
   ]
  },
  {
   "cell_type": "markdown",
   "metadata": {},
   "source": [
    "### When to Use Covariance"
   ]
  },
  {
   "cell_type": "markdown",
   "metadata": {},
   "source": [
    "- **Measuring Relationship Direction and Scale**: Covariance is used when you want to determine the direction (positive or negative) of a linear relationship between two variables and the scale of this relationship. It tells you whether increasing values in one variable correspond with increasing values in the other (positive covariance), decreasing values in the other (negative covariance), or if there is no linear relationship (covariance near zero).\n",
    "\n",
    "- **Joint Variability Understanding**: It is particularly useful in cases where the scale of variables is important, as covariance is sensitive to the units of measurement of the variables. This makes it valuable in situations where you are working with variables measured in the same units or when the magnitude of the relationship is of interest alongside the direction."
   ]
  },
  {
   "cell_type": "markdown",
   "metadata": {},
   "source": [
    "### When to Use Correlation"
   ]
  },
  {
   "cell_type": "markdown",
   "metadata": {},
   "source": [
    "- **Standardized Measure of Relationship Strength**: Correlation is used when you need a standardized measure of the strength of the linear relationship between two variables. Since the Pearson correlation coefficient is dimensionless and always between -1 and 1, it provides a clear, interpretable metric regardless of the units of the variables.\n",
    "\n",
    "- **Comparison of Different Datasets**: Because correlation is unitless, it allows for the comparison of the strength of relationships across different datasets or pairs of variables even if their scales differ dramatically."
   ]
  },
  {
   "cell_type": "markdown",
   "metadata": {},
   "source": [
    "### Mathematical Explanations"
   ]
  },
  {
   "cell_type": "markdown",
   "metadata": {},
   "source": [
    "1. **Covariance**:\n",
    "   The covariance between two random variables $X$ and $Y$ can be defined as:\n",
    "   $$\n",
    "   \\text{Cov}(X, Y) = E\\left[(X - \\mu_X)(Y - \\mu_Y)\\right]\n",
    "   $$\n",
    "   where $E$ is the expected value operator, and $\\mu_X$ and $\\mu_Y$ are the means of $X$ and $Y$, respectively.\n",
    "\n",
    "2. **Pearson Correlation**:\n",
    "   The Pearson correlation coefficient between two variables $X$ and $Y$ is computed as:\n",
    "   $$\n",
    "   \\rho_{X,Y} = \\frac{\\text{Cov}(X, Y)}{\\sigma_X \\sigma_Y}\n",
    "   $$\n",
    "   where $\\sigma_X$ and $\\sigma_Y$ are the standard deviations of $X$ and $Y$, respectively."
   ]
  },
  {
   "cell_type": "markdown",
   "metadata": {},
   "source": [
    "### Code Implementation in Python"
   ]
  },
  {
   "cell_type": "code",
   "execution_count": 1,
   "metadata": {},
   "outputs": [
    {
     "name": "stdout",
     "output_type": "stream",
     "text": [
      "Covariance: -62.49999999999999\n",
      "Pearson Correlation: -0.9790755624849465\n"
     ]
    }
   ],
   "source": [
    "import numpy as np\n",
    "import pandas as pd\n",
    "\n",
    "# Example data\n",
    "data = {\n",
    "    'X': [25, 30, 35, 40, 45],\n",
    "    'Y': [78, 70, 65, 60, 58]\n",
    "}\n",
    "df = pd.DataFrame(data)\n",
    "\n",
    "# Calculate Covariance\n",
    "covariance = np.cov(df['X'], df['Y'])[0, 1]\n",
    "print(\"Covariance:\", covariance)\n",
    "\n",
    "# Calculate Pearson Correlation\n",
    "correlation = np.corrcoef(df['X'], df['Y'])[0, 1]\n",
    "print(\"Pearson Correlation:\", correlation)"
   ]
  },
  {
   "cell_type": "markdown",
   "metadata": {},
   "source": [
    "\n",
    "### Explanation of the Code"
   ]
  },
  {
   "cell_type": "markdown",
   "metadata": {},
   "source": [
    "- **Data Creation**: We create a simple dataset with two variables, $X$ and $Y$, using Pandas DataFrame.\n",
    "- **Covariance Calculation**: We use the `np.cov()` function from NumPy, which returns a covariance matrix. The covariance between $X$ and $Y$ is located at `[0, 1]` in this matrix.\n",
    "- **Pearson Correlation Calculation**: We use the `np.corrcoef()` function from NumPy to compute the correlation matrix, and similarly, the correlation between $X$ and $Y$ is at `[0, 1]` in this matrix.\n",
    "\n",
    "- **Covariance Analysis**: The **covariance** result of approximately (-62.5) indicates a strong negative relationship between $X$ and $Y$. This means that as $X$ increases, $Y$ tends to decrease. The magnitude of the covariance (-62.5) suggests that the variables are quite strongly linked, but it's important to note that the absolute value of covariance is not easily interpretable without context, as it is affected by the scale of the variables.\n",
    "\n",
    "- **Pearson Correlation Analysis**: The **Pearson correlation coefficient** is approximately (-0.979), which is very close to (-1). This indicates a very strong negative linear relationship between the two variables. Essentially, this tells us that there is a nearly perfect inverse relationship between $X$ and $Y$; as one variable increases, the other decreases almost perfectly in a linear manner."
   ]
  },
  {
   "cell_type": "markdown",
   "metadata": {},
   "source": [
    "### Summary"
   ]
  },
  {
   "cell_type": "markdown",
   "metadata": {},
   "source": [
    "In summary, covariance is suitable when you are interested in the direction and scale of the relationship between variables, particularly within the same dataset. Correlation is preferred when comparing the strengths of relationships across different datasets or when you need a standardized measure that is not affected by the units of measurement. Understanding these distinctions helps ensure that statistical analyses are both appropriate and meaningful."
   ]
  }
 ],
 "metadata": {
  "kernelspec": {
   "display_name": "pytorch",
   "language": "python",
   "name": "python3"
  },
  "language_info": {
   "codemirror_mode": {
    "name": "ipython",
    "version": 3
   },
   "file_extension": ".py",
   "mimetype": "text/x-python",
   "name": "python",
   "nbconvert_exporter": "python",
   "pygments_lexer": "ipython3",
   "version": "3.11.5"
  }
 },
 "nbformat": 4,
 "nbformat_minor": 2
}
