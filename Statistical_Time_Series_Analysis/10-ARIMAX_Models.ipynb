{
 "cells": [
  {
    "cell_type": "markdown",
    "metadata": {
      "id": "view-in-github",
      "colab_type": "text"
    },
    "source": [
      "<a href=\"https://colab.research.google.com/github/arkeodev/time-series/blob/main/Statistical_Time_Series_Analysis/10-ARIMAX_Models.ipynb\" target=\"_parent\"><img src=\"https://colab.research.google.com/assets/colab-badge.svg\" alt=\"Open In Colab\"/></a>"
    ]
  },
  {
   "cell_type": "markdown",
   "metadata": {},
   "source": [
    "# ARIMAX Models"
   ]
  },
  {
   "cell_type": "markdown",
   "metadata": {},
   "source": [
    "The ARIMAX model stands for Autoregressive Integrated Moving Average with eXogenous inputs model. It is an extension of the ARIMA model, which includes external factors."
   ]
  },
  {
   "cell_type": "markdown",
   "metadata": {},
   "source": [
    "## Incorporating Exogenous Variables - X"
   ]
  },
  {
   "cell_type": "markdown",
   "metadata": {},
   "source": [
    "In ARIMAX, the ‘X’ refers to the exogenous variables, which are external factors or covariates that might influence the time series. These variables can include anything relevant that could impact the response variable you are trying to forecast but is not directly part of the series. For instance, if you were predicting demand for umbrellas, an exogenous variable might be rainfall. Unlike endogenous variables in ARIMA, exogenous variables are not predicted by the model but are included in the model to help improve the accuracy of predictions."
   ]
  },
  {
   "cell_type": "markdown",
   "metadata": {},
   "source": [
    "## Mathematical Notation"
   ]
  },
  {
   "cell_type": "markdown",
   "metadata": {},
   "source": [
    "In mathematical terms, the ARIMAX model is written as:\n",
    "\n",
    "$$\n",
    "\\Delta P_t = c + \\phi_1 \\Delta P_{t-1} + \\theta_1 \\varepsilon_{t-1} + \\beta X_t + \\varepsilon_t\n",
    "$$\n",
    "\n",
    "Where:\n",
    "- $ \\Delta P_t $ is the differenced time series value at time t.\n",
    "- $ c $ is a constant.\n",
    "- $ \\phi_1 $ is the coefficient for the first lag of the differenced series.\n",
    "- $ \\theta_1 $ is the coefficient for the first lag of the error term.\n",
    "- $ \\beta $ is the coefficient for the exogenous variable $ X_t $.\n",
    "- $ \\varepsilon_t $ is the error term (residuals of the model)."
   ]
  },
  {
   "cell_type": "markdown",
   "metadata": {},
   "source": [
    "## Practical Considerations"
   ]
  },
  {
   "cell_type": "markdown",
   "metadata": {},
   "source": [
    "1. The exogenous variable $ X $ can be:\n",
    "- A time-varying measurement (e.g., temperature, economic indicators).\n",
    "- A categorical variable (e.g., day of the week, event occurrence).\n",
    "- A Boolean value (e.g., presence or absence of an event).\n",
    "- A combination of several different factors.\n",
    "\n",
    "2. It's important that for ARIMAX, you have data for the exogenous variables for every period you're trying to model.\n",
    "\n",
    "3. When incorporating exogenous variables, it’s crucial to ensure that these factors are indeed influential to the model and are not just noise. Overfitting the model with irrelevant X variables can lead to poor predictive performance."
   ]
  },
  {
   "cell_type": "markdown",
   "metadata": {},
   "source": [
    "## Implementation"
   ]
  },
  {
   "cell_type": "code",
   "execution_count": 4,
   "metadata": {},
   "outputs": [
    {
     "name": "stdout",
     "output_type": "stream",
     "text": [
      "RUNNING THE L-BFGS-B CODE\n",
      "\n",
      "           * * *\n",
      "\n",
      "Machine precision = 2.220D-16\n",
      " N =            4     M =           10\n",
      "\n",
      "At X0         0 variables are exactly at the bounds\n",
      "\n",
      "At iterate    0    f=  1.30539D+00    |proj g|=  1.17406D-02\n",
      "\n",
      "At iterate    5    f=  1.30527D+00    |proj g|=  1.49366D-03\n",
      "\n",
      "At iterate   10    f=  1.30520D+00    |proj g|=  6.14288D-03\n",
      "\n",
      "At iterate   15    f=  1.30518D+00    |proj g|=  1.05106D-05\n",
      "\n",
      "           * * *\n",
      "\n",
      "Tit   = total number of iterations\n",
      "Tnf   = total number of function evaluations\n",
      "Tnint = total number of segments explored during Cauchy searches\n",
      "Skip  = number of BFGS updates skipped\n",
      "Nact  = number of active bounds at final generalized Cauchy point\n",
      "Projg = norm of the final projected gradient\n",
      "F     = final function value\n",
      "\n",
      "           * * *\n",
      "\n",
      "   N    Tit     Tnf  Tnint  Skip  Nact     Projg        F\n",
      "    4     15     27      1     0     0   1.051D-05   1.305D+00\n",
      "  F =   1.3051781967717191     \n",
      "\n",
      "CONVERGENCE: REL_REDUCTION_OF_F_<=_FACTR*EPSMCH             \n",
      "                               SARIMAX Results                                \n",
      "==============================================================================\n",
      "Dep. Variable:                      y   No. Observations:                  100\n",
      "Model:               SARIMAX(1, 1, 1)   Log Likelihood                -130.518\n",
      "Date:                Mon, 15 Apr 2024   AIC                            269.036\n",
      "Time:                        09:35:37   BIC                            279.416\n",
      "Sample:                             0   HQIC                           273.236\n",
      "                                - 100                                         \n",
      "Covariance Type:                  opg                                         \n",
      "==============================================================================\n",
      "                 coef    std err          z      P>|z|      [0.025      0.975]\n",
      "------------------------------------------------------------------------------\n",
      "x1            -0.1323      0.087     -1.523      0.128      -0.302       0.038\n",
      "ar.L1          0.2546      3.234      0.079      0.937      -6.083       6.592\n",
      "ma.L1         -0.2875      3.190     -0.090      0.928      -6.540       5.965\n",
      "sigma2         0.8178      0.125      6.543      0.000       0.573       1.063\n",
      "===================================================================================\n",
      "Ljung-Box (L1) (Q):                   0.02   Jarque-Bera (JB):                 0.22\n",
      "Prob(Q):                              0.90   Prob(JB):                         0.90\n",
      "Heteroskedasticity (H):               0.85   Skew:                            -0.04\n",
      "Prob(H) (two-sided):                  0.64   Kurtosis:                         2.78\n",
      "===================================================================================\n",
      "\n",
      "Warnings:\n",
      "[1] Covariance matrix calculated using the outer product of gradients (complex-step).\n"
     ]
    },
    {
     "name": "stderr",
     "output_type": "stream",
     "text": [
      " This problem is unconstrained.\n"
     ]
    }
   ],
   "source": [
    "import numpy as np\n",
    "import pandas as pd\n",
    "from statsmodels.tsa.statespace.sarimax import SARIMAX\n",
    "import matplotlib.pyplot as plt\n",
    "\n",
    "# Set the random seed for reproducibility\n",
    "np.random.seed(42)\n",
    "\n",
    "# Generate a series of 100 observations as our dependent variable following an ARIMA(1, 1, 1) process\n",
    "ar_params = np.array([0.5])  # AR(1) parameter\n",
    "ma_params = np.array([-0.3])  # MA(1) parameter\n",
    "ar = np.r_[1, -ar_params]  # add zero-lag and negate AR params\n",
    "ma = np.r_[1, ma_params]  # add zero-lag for MA params\n",
    "y = np.random.normal(loc=0, scale=1, size=100).cumsum()  # Simulating an integrated process\n",
    "\n",
    "# Generate a synthetic exogenous variable (e.g., temperature, economic index)\n",
    "x = np.random.normal(loc=0, scale=1, size=100).cumsum()  # Simulating an external factor\n",
    "\n",
    "# Fit an ARIMAX model (with the order of ARIMA(1, 1, 1) and exogenous variable)\n",
    "model = SARIMAX(y, order=(1, 1, 1), exog=x)\n",
    "results = model.fit()\n",
    "\n",
    "# Summarize the model results\n",
    "print(results.summary())"
   ]
  },
  {
   "cell_type": "markdown",
   "metadata": {},
   "source": [
    "In this example:\n",
    "- `y` represents the dependent variable simulated to follow an ARIMA process.\n",
    "- `x` is the exogenous variable we have generated, which could represent any external factor that might affect `y`.\n",
    "- We fit an ARIMAX model to `y` with `x` as the exogenous input.\n",
    "- The `SARIMAX` class is used, which is a more generalized class in `statsmodels` capable of ARIMA, Seasonal ARIMA, and ARIMAX modeling."
   ]
  },
  {
   "cell_type": "markdown",
   "metadata": {},
   "source": [
    "## Conclusion"
   ]
  },
  {
   "cell_type": "markdown",
   "metadata": {},
   "source": [
    "\n",
    "In summary, ARIMAX is an ARIMA model with the added capability of including external factors that might influence the time series you are modeling. By incorporating these exogenous inputs, ARIMAX can provide more accurate predictions when these external factors have significant effects on the model outcomes."
   ]
  }
 ],
 "metadata": {
  "kernelspec": {
   "display_name": "pytorch",
   "language": "python",
   "name": "python3"
  },
  "language_info": {
   "codemirror_mode": {
    "name": "ipython",
    "version": 3
   },
   "file_extension": ".py",
   "mimetype": "text/x-python",
   "name": "python",
   "nbconvert_exporter": "python",
   "pygments_lexer": "ipython3",
   "version": "3.11.5"
  }
 },
 "nbformat": 4,
 "nbformat_minor": 2
}
