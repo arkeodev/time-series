{
 "cells": [
  {
   "cell_type": "markdown",
   "metadata": {
    "colab_type": "text",
    "id": "view-in-github"
   },
   "source": [
    "<a href=\"https://colab.research.google.com/github/arkeodev/time-series/blob/main/Statistical_Time_Series_Analysis/07-autoregressive-model.ipynb\" target=\"_parent\"><img src=\"https://colab.research.google.com/assets/colab-badge.svg\" alt=\"Open In Colab\"/></a>"
   ]
  },
  {
   "cell_type": "markdown",
   "metadata": {},
   "source": [
    "# 7. Autoregressive (AR) Models"
   ]
  },
  {
   "cell_type": "markdown",
   "metadata": {},
   "source": [
    "## 1. Introduction"
   ]
  },
  {
   "cell_type": "markdown",
   "metadata": {},
   "source": [
    "An **Autoregressive (AR)** model is a cornerstone in time series analysis. The term *autoregressive* highlights that the variable of interest (\\( x_t \\)) depends on its own previous values (lags). "
   ]
  },
  {
   "cell_type": "markdown",
   "metadata": {},
   "source": [
    "**Key Features**\n",
    "\n",
    "- **Lag Dependence**: The current value depends on its past values.\n",
    "- **Stationarity Requirement**: AR models generally need the time series to be stationary. This often means that the AR coefficients lie within certain bounds (e.g., \\(-1 < \\phi < 1\\) for AR(1)).\n",
    "- **Simplicity & Interpretability**: AR models are relatively easy to interpret and estimate, making them a common first choice for forecasting tasks."
   ]
  },
  {
   "cell_type": "markdown",
   "metadata": {},
   "source": [
    "## 2. AR(1) Model"
   ]
  },
  {
   "cell_type": "markdown",
   "metadata": {},
   "source": [
    "The simplest form, **AR(1)**, posits:\n",
    "$$\n",
    "x_t = C + \\phi x_{t-1} + \\epsilon_t\n",
    "$$\n",
    "where\n",
    "\n",
    "1. $( x_t )$: Value of the time series at time $( t )$.  \n",
    "2. $( C )$: Constant (intercept).  \n",
    "3. $( \\phi )$: AR coefficient indicating how strongly $( x_{t-1} )$ influences $( x_t )$.  \n",
    "4. $( \\epsilon_t )$: A random error term (often assumed to be white noise).  "
   ]
  },
  {
   "cell_type": "markdown",
   "metadata": {},
   "source": [
    "**Interpretation**\n",
    "\n",
    "- **$(\\phi \\approx 1)$**: High persistence. The series value decays very slowly.  \n",
    "- **$(\\phi \\approx 0)$**: Little to no influence from the past.  \n",
    "- **$(\\phi < 0)$**: Inverse (negative) relationship with the previous value, causing oscillations."
   ]
  },
  {
   "cell_type": "markdown",
   "metadata": {},
   "source": [
    "## 3. $AR(p)$ Model"
   ]
  },
  {
   "cell_type": "markdown",
   "metadata": {},
   "source": [
    "A general **AR(p)** model includes \\(p\\) lags:\n",
    "$$\n",
    "x_t = C + \\phi_1 x_{t-1} + \\phi_2 x_{t-2} + \\dots + \\phi_p x_{t-p} + \\epsilon_t\n",
    "$$\n",
    "\n",
    "- Increasing $( p )$ allows for more complex dependencies (multiple past values), but also increases the number of parameters to estimate, leading to a trade-off between model complexity and interpretability."
   ]
  },
  {
   "cell_type": "markdown",
   "metadata": {},
   "source": [
    "## 4. An Example with Python"
   ]
  },
  {
   "cell_type": "markdown",
   "metadata": {},
   "source": [
    "\n",
    "\n",
    "In the example below, we will:\n",
    "\n",
    "1. Generate a synthetic AR(1) time series.\n",
    "2. Fit an AR(1) model.\n",
    "3. Compare AR models of different orders (AR(1) through AR(5)).\n",
    "\n",
    "> **Note**: Any normalization or detailed residual analysis steps would typically go here, but they have been moved to **separate notebooks** for clarity."
   ]
  },
  {
   "cell_type": "markdown",
   "metadata": {},
   "source": [
    "### 4.1 Imports and Setup"
   ]
  },
  {
   "cell_type": "code",
   "execution_count": 1,
   "metadata": {},
   "outputs": [],
   "source": [
    "import pandas as pd\n",
    "import numpy as np\n",
    "import matplotlib.pyplot as plt\n",
    "import statsmodels.api as sm\n",
    "from statsmodels.tsa.ar_model import AutoReg\n",
    "\n",
    "# For reproducibility\n",
    "np.random.seed(42)"
   ]
  },
  {
   "cell_type": "markdown",
   "metadata": {},
   "source": [
    "### 4.2 Generate Synthetic AR(1) Data"
   ]
  },
  {
   "cell_type": "markdown",
   "metadata": {},
   "source": [
    "We’ll create a 100-sample time series where:\n",
    "$$\n",
    "x_t = 2 + 0.7 \\, x_{t-1} + \\epsilon_t\n",
    "$$"
   ]
  },
  {
   "cell_type": "code",
   "execution_count": 2,
   "metadata": {},
   "outputs": [],
   "source": [
    "n_samples = 100\n",
    "sigma = 1  # standard deviation of noise\n",
    "\n",
    "errors = np.random.normal(0, sigma, n_samples)\n",
    "alpha = 2   # constant (C)\n",
    "phi = 0.7   # AR(1) coefficient\n",
    "\n",
    "# Initialize the series\n",
    "data = [alpha / (1 - phi)]  # often used as a starting point near the mean level\n",
    "\n",
    "for t in range(1, n_samples):\n",
    "    data.append(alpha + phi * data[t-1] + errors[t])\n",
    "\n",
    "time_series = pd.Series(data)"
   ]
  },
  {
   "cell_type": "markdown",
   "metadata": {},
   "source": [
    "### 4.3 Fit an AR(1) Model"
   ]
  },
  {
   "cell_type": "code",
   "execution_count": 3,
   "metadata": {},
   "outputs": [
    {
     "name": "stdout",
     "output_type": "stream",
     "text": [
      "                            AutoReg Model Results                             \n",
      "==============================================================================\n",
      "Dep. Variable:                      y   No. Observations:                  100\n",
      "Model:                     AutoReg(1)   Log Likelihood                -130.638\n",
      "Method:               Conditional MLE   S.D. of innovations              0.905\n",
      "Date:                Thu, 02 Jan 2025   AIC                            267.276\n",
      "Time:                        13:05:37   BIC                            275.062\n",
      "Sample:                             1   HQIC                           270.426\n",
      "                                  100                                         \n",
      "==============================================================================\n",
      "                 coef    std err          z      P>|z|      [0.025      0.975]\n",
      "------------------------------------------------------------------------------\n",
      "const          2.0774      0.479      4.334      0.000       1.138       3.017\n",
      "y.L1           0.6703      0.075      8.995      0.000       0.524       0.816\n",
      "                                    Roots                                    \n",
      "=============================================================================\n",
      "                  Real          Imaginary           Modulus         Frequency\n",
      "-----------------------------------------------------------------------------\n",
      "AR.1            1.4918           +0.0000j            1.4918            0.0000\n",
      "-----------------------------------------------------------------------------\n"
     ]
    }
   ],
   "source": [
    "ar_model = AutoReg(time_series, lags=1, old_names=False)\n",
    "ar_results = ar_model.fit()\n",
    "print(ar_results.summary())"
   ]
  },
  {
   "cell_type": "markdown",
   "metadata": {},
   "source": [
    "**Interpretation**:\n",
    "- **const**: The estimated intercept (close to the true $(C = 2)$).\n",
    "- **y.L1**: The estimated AR coefficient $(\\phi)$, close to 0.7.\n",
    "- **S.D. of innovations**: Standard deviation of the errors."
   ]
  },
  {
   "cell_type": "markdown",
   "metadata": {},
   "source": [
    "### 4.4 Compare AR(1) to Higher Orders (AR(2) to AR(5))"
   ]
  },
  {
   "cell_type": "markdown",
   "metadata": {},
   "source": [
    "We can loop through various orders and see if adding lags improves fit."
   ]
  },
  {
   "cell_type": "code",
   "execution_count": 4,
   "metadata": {},
   "outputs": [
    {
     "name": "stdout",
     "output_type": "stream",
     "text": [
      "AR(1) Log Likelihood: -130.64\n",
      "                            AutoReg Model Results                             \n",
      "==============================================================================\n",
      "Dep. Variable:                      y   No. Observations:                  100\n",
      "Model:                     AutoReg(1)   Log Likelihood                -130.638\n",
      "Method:               Conditional MLE   S.D. of innovations              0.905\n",
      "Date:                Thu, 02 Jan 2025   AIC                            267.276\n",
      "Time:                        13:05:37   BIC                            275.062\n",
      "Sample:                             1   HQIC                           270.426\n",
      "                                  100                                         \n",
      "==============================================================================\n",
      "                 coef    std err          z      P>|z|      [0.025      0.975]\n",
      "------------------------------------------------------------------------------\n",
      "const          2.0774      0.479      4.334      0.000       1.138       3.017\n",
      "y.L1           0.6703      0.075      8.995      0.000       0.524       0.816\n",
      "                                    Roots                                    \n",
      "=============================================================================\n",
      "                  Real          Imaginary           Modulus         Frequency\n",
      "-----------------------------------------------------------------------------\n",
      "AR.1            1.4918           +0.0000j            1.4918            0.0000\n",
      "-----------------------------------------------------------------------------\n",
      "\n",
      "==================================================\n",
      "\n",
      "AR(2) Log Likelihood: -129.81\n",
      "                            AutoReg Model Results                             \n",
      "==============================================================================\n",
      "Dep. Variable:                      y   No. Observations:                  100\n",
      "Model:                     AutoReg(2)   Log Likelihood                -129.811\n",
      "Method:               Conditional MLE   S.D. of innovations              0.910\n",
      "Date:                Thu, 02 Jan 2025   AIC                            267.622\n",
      "Time:                        13:05:37   BIC                            277.962\n",
      "Sample:                             2   HQIC                           271.804\n",
      "                                  100                                         \n",
      "==============================================================================\n",
      "                 coef    std err          z      P>|z|      [0.025      0.975]\n",
      "------------------------------------------------------------------------------\n",
      "const          2.0984      0.526      3.993      0.000       1.068       3.129\n",
      "y.L1           0.6772      0.101      6.704      0.000       0.479       0.875\n",
      "y.L2          -0.0102      0.101     -0.101      0.920      -0.208       0.188\n",
      "                                    Roots                                    \n",
      "=============================================================================\n",
      "                  Real          Imaginary           Modulus         Frequency\n",
      "-----------------------------------------------------------------------------\n",
      "AR.1            1.5109           +0.0000j            1.5109            0.0000\n",
      "AR.2           65.1249           +0.0000j           65.1249            0.0000\n",
      "-----------------------------------------------------------------------------\n",
      "\n",
      "==================================================\n",
      "\n",
      "AR(3) Log Likelihood: -128.59\n",
      "                            AutoReg Model Results                             \n",
      "==============================================================================\n",
      "Dep. Variable:                      y   No. Observations:                  100\n",
      "Model:                     AutoReg(3)   Log Likelihood                -128.587\n",
      "Method:               Conditional MLE   S.D. of innovations              0.911\n",
      "Date:                Thu, 02 Jan 2025   AIC                            267.175\n",
      "Time:                        13:05:37   BIC                            280.049\n",
      "Sample:                             3   HQIC                           272.380\n",
      "                                  100                                         \n",
      "==============================================================================\n",
      "                 coef    std err          z      P>|z|      [0.025      0.975]\n",
      "------------------------------------------------------------------------------\n",
      "const          2.0413      0.567      3.597      0.000       0.929       3.153\n",
      "y.L1           0.6777      0.101      6.701      0.000       0.479       0.876\n",
      "y.L2          -0.0316      0.122     -0.259      0.796      -0.271       0.208\n",
      "y.L3           0.0288      0.101      0.285      0.776      -0.169       0.227\n",
      "                                    Roots                                    \n",
      "=============================================================================\n",
      "                  Real          Imaginary           Modulus         Frequency\n",
      "-----------------------------------------------------------------------------\n",
      "AR.1            1.4450           -0.0000j            1.4450           -0.0000\n",
      "AR.2           -0.1727           -4.9013j            4.9043           -0.2556\n",
      "AR.3           -0.1727           +4.9013j            4.9043            0.2556\n",
      "-----------------------------------------------------------------------------\n",
      "\n",
      "==================================================\n",
      "\n",
      "AR(4) Log Likelihood: -125.97\n",
      "                            AutoReg Model Results                             \n",
      "==============================================================================\n",
      "Dep. Variable:                      y   No. Observations:                  100\n",
      "Model:                     AutoReg(4)   Log Likelihood                -125.970\n",
      "Method:               Conditional MLE   S.D. of innovations              0.899\n",
      "Date:                Thu, 02 Jan 2025   AIC                            263.940\n",
      "Time:                        13:05:37   BIC                            279.326\n",
      "Sample:                             4   HQIC                           270.160\n",
      "                                  100                                         \n",
      "==============================================================================\n",
      "                 coef    std err          z      P>|z|      [0.025      0.975]\n",
      "------------------------------------------------------------------------------\n",
      "const          1.9947      0.597      3.343      0.001       0.825       3.164\n",
      "y.L1           0.6606      0.100      6.594      0.000       0.464       0.857\n",
      "y.L2          -0.0193      0.121     -0.160      0.873      -0.256       0.217\n",
      "y.L3          -0.0045      0.121     -0.037      0.970      -0.241       0.232\n",
      "y.L4           0.0426      0.100      0.426      0.670      -0.153       0.239\n",
      "                                    Roots                                    \n",
      "=============================================================================\n",
      "                  Real          Imaginary           Modulus         Frequency\n",
      "-----------------------------------------------------------------------------\n",
      "AR.1            1.3629           -0.0000j            1.3629           -0.0000\n",
      "AR.2            0.8153           -2.3034j            2.4434           -0.1959\n",
      "AR.3            0.8153           +2.3034j            2.4434            0.1959\n",
      "AR.4           -2.8880           -0.0000j            2.8880           -0.5000\n",
      "-----------------------------------------------------------------------------\n",
      "\n",
      "==================================================\n",
      "\n",
      "AR(5) Log Likelihood: -124.57\n",
      "                            AutoReg Model Results                             \n",
      "==============================================================================\n",
      "Dep. Variable:                      y   No. Observations:                  100\n",
      "Model:                     AutoReg(5)   Log Likelihood                -124.568\n",
      "Method:               Conditional MLE   S.D. of innovations              0.898\n",
      "Date:                Thu, 02 Jan 2025   AIC                            263.136\n",
      "Time:                        13:05:37   BIC                            281.013\n",
      "Sample:                             5   HQIC                           270.360\n",
      "                                  100                                         \n",
      "==============================================================================\n",
      "                 coef    std err          z      P>|z|      [0.025      0.975]\n",
      "------------------------------------------------------------------------------\n",
      "const          1.7765      0.632      2.812      0.005       0.538       3.015\n",
      "y.L1           0.6560      0.102      6.433      0.000       0.456       0.856\n",
      "y.L2          -0.0194      0.121     -0.161      0.872      -0.256       0.217\n",
      "y.L3          -0.0019      0.121     -0.016      0.987      -0.238       0.235\n",
      "y.L4          -0.0306      0.120     -0.254      0.799      -0.267       0.206\n",
      "y.L5           0.1095      0.101      1.087      0.277      -0.088       0.307\n",
      "                                    Roots                                    \n",
      "=============================================================================\n",
      "                  Real          Imaginary           Modulus         Frequency\n",
      "-----------------------------------------------------------------------------\n",
      "AR.1            1.2225           -0.0000j            1.2225           -0.0000\n",
      "AR.2            0.8357           -1.3156j            1.5586           -0.1599\n",
      "AR.3            0.8357           +1.3156j            1.5586            0.1599\n",
      "AR.4           -1.3070           -1.1691j            1.7536           -0.3839\n",
      "AR.5           -1.3070           +1.1691j            1.7536            0.3839\n",
      "-----------------------------------------------------------------------------\n",
      "\n",
      "==================================================\n",
      "\n"
     ]
    }
   ],
   "source": [
    "ar_orders = range(1, 6)\n",
    "results_dict = {}\n",
    "log_likelihoods = []\n",
    "\n",
    "for order in ar_orders:\n",
    "    model = AutoReg(time_series, lags=order, old_names=False)\n",
    "    result = model.fit()\n",
    "    results_dict[order] = result\n",
    "    log_likelihoods.append(result.llf)\n",
    "    print(f\"AR({order}) Log Likelihood: {result.llf:.2f}\")\n",
    "    print(result.summary())\n",
    "    print(\"\\n\" + \"=\"*50 + \"\\n\")"
   ]
  },
  {
   "cell_type": "markdown",
   "metadata": {},
   "source": [
    "### 4.5 Model Selection Considerations"
   ]
  },
  {
   "cell_type": "markdown",
   "metadata": {},
   "source": [
    "- **Log Likelihood**: Generally, higher (less negative) indicates a better fit.\n",
    "- **AIC/BIC**: Information criteria that penalize complexity; lower is often better.\n",
    "- **Significance of Coefficients**: If higher-order coefficients are not significant (p-values > 0.05), their inclusion may not be justified.\n",
    "- **Practical Parsimony**: A simpler model with fewer lags can be preferable if it captures the essential dynamics adequately."
   ]
  },
  {
   "cell_type": "markdown",
   "metadata": {},
   "source": [
    "### 4.6 Interpretation of the Results"
   ]
  },
  {
   "cell_type": "markdown",
   "metadata": {},
   "source": [
    "1. **Log Likelihood**: Improves from AR(1) $(-130.64)$ to AR(5) $(-124.57)$, indicating each additional lag slightly improves fit.\n",
    "\n",
    "2. **AIC vs. BIC**:\n",
    "   - **AIC** (less penalty for complexity): Lowest with **AR(5)** $(263.136)$.\n",
    "   - **BIC** (heavier penalty for complexity): Lowest with **AR(1)** $(275.062)$.\n",
    "   - Conclusion: AR(1) is favored by BIC; AR(5) is favored by AIC.\n",
    "\n",
    "3. **Significance of Additional Lags**:\n",
    "   - AR(1): Lag-1 is significant $(p < 0.05)$, $\\phi \\approx 0.67$.\n",
    "   - AR(2)–AR(5): Extra lags $(\\text{y.L2}, \\text{y.L3}, \\dots)$ have high $p$-values, i.e., not statistically significant.\n",
    "\n",
    "4. **Model Choice**:\n",
    "   - **AR(1)** is simpler, has significant coefficients, and the best BIC.\n",
    "   - **AR(5)** yields a better AIC but includes many insignificant terms.\n",
    "\n",
    "Most analysts would pick **AR(1)** for its parsimony and significant lag, unless there’s a compelling reason (like better out-of-sample performance) to accept the extra complexity of higher-order models."
   ]
  },
  {
   "cell_type": "markdown",
   "metadata": {},
   "source": [
    "\n",
    "## 5. Summary\n",
    "\n"
   ]
  },
  {
   "cell_type": "markdown",
   "metadata": {},
   "source": [
    "- **Autoregressive models** are powerful tools for **time series forecasting**, leveraging past observations to predict future values.\n",
    "- For an **AR(1)** process, focus on whether $\\phi$ is statistically significant and within the stationarity bounds $(-1 < \\phi < 1)$.\n",
    "- Higher-order **AR(p)** models can capture more complex dynamics but risk overfitting if you include too many insignificant lags.\n",
    "- **Model selection** often balances goodness-of-fit (likelihood) with parsimony (fewest parameters). This can be done through **hypothesis testing** (e.g., t-tests on the coefficients) and information criteria like **AIC** or **BIC**.\n",
    "\n"
   ]
  }
 ],
 "metadata": {
  "kernelspec": {
   "display_name": "pytorch",
   "language": "python",
   "name": "python3"
  },
  "language_info": {
   "codemirror_mode": {
    "name": "ipython",
    "version": 3
   },
   "file_extension": ".py",
   "mimetype": "text/x-python",
   "name": "python",
   "nbconvert_exporter": "python",
   "pygments_lexer": "ipython3",
   "version": "3.11.5"
  }
 },
 "nbformat": 4,
 "nbformat_minor": 2
}
