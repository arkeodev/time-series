{
 "cells": [
  {
   "cell_type": "markdown",
   "metadata": {
    "colab_type": "text",
    "id": "view-in-github"
   },
   "source": [
    "<a href=\"https://colab.research.google.com/github/arkeodev/time-series/blob/main/Statistical_Time_Series_Analysis/11-moving-average-model.ipynb\" target=\"_parent\"><img src=\"https://colab.research.google.com/assets/colab-badge.svg\" alt=\"Open In Colab\"/></a>"
   ]
  },
  {
   "cell_type": "markdown",
   "metadata": {},
   "source": [
    "# 11.Moving Average Model (MA)"
   ]
  },
  {
   "cell_type": "markdown",
   "metadata": {},
   "source": [
    "## 1. Introduction"
   ]
  },
  {
   "cell_type": "markdown",
   "metadata": {},
   "source": [
    "In time series analysis, a Moving Average model is a tool used to model the relationship between a current value and random shocks or \"white noise\" from previous time periods."
   ]
  },
  {
   "cell_type": "markdown",
   "metadata": {},
   "source": [
    "- **Shock Absorption**: MA models are particularly good at capturing shock effects that are not permanent. The model assumes that these shocks affect the time series values temporarily.\n",
    "\n",
    "- **Random Fluctuations**: They are effective for modeling time series that exhibit random fluctuations, as opposed to autoregressive models that are more suited to series exhibiting a more gradual and continuous time dependence."
   ]
  },
  {
   "cell_type": "markdown",
   "metadata": {},
   "source": [
    "## 2. AR vs MA Model"
   ]
  },
  {
   "cell_type": "markdown",
   "metadata": {},
   "source": [
    "### 2.1. Autoregressive Model (AR)\n",
    "\n",
    "In the AR model, the current value of the series, $ Y_t $, is based on its own previous value plus a random shock. The formula is given as:\n",
    "\n",
    "$$\n",
    "Y_t = C + \\phi_1 Y_{t-1} + \\varepsilon_t\n",
    "$$\n",
    "\n",
    "- $ Y_t $: The current value of the series.\n",
    "- $ C $: A constant term (intercept) that represents the mean level of the series.\n",
    "- $ \\phi_1 $: The coefficient that measures the impact of the first lag of the series, $ Y_{t-1} $, on the current value.\n",
    "- $ \\varepsilon_t $: The error term at time $ t $, representing new information or random shocks not explained by the past value.\n",
    "\n",
    "The AR model implies that future values have a linear dependence on past values.\n"
   ]
  },
  {
   "cell_type": "markdown",
   "metadata": {},
   "source": [
    "### 2.2. Moving Average Model (MA)"
   ]
  },
  {
   "cell_type": "markdown",
   "metadata": {},
   "source": [
    "The MA model, on the other hand, explains the current value of the series as a function of the past and current random shocks. The formula for an MA(1) model is:\n",
    "\n",
    "$$\n",
    "Y_t = C + \\theta_1 \\varepsilon_{t-1} + \\varepsilon_t\n",
    "$$\n",
    "\n",
    "- $ Y_t $: The current value of the series.\n",
    "- $ C $: A constant term (intercept).\n",
    "- $ \\theta_1 $: The coefficient that measures the impact of the previous period’s shock, $ \\varepsilon_{t-1} $, on the current value.\n",
    "- $ \\varepsilon_t $: The error term at time $ t $, representing the new random shock.\n",
    "\n",
    "The MA model suggests that the effect of a shock at time $ t $ influences not only the value at time $ t $ but also the value at time $ t+1 $."
   ]
  },
  {
   "cell_type": "markdown",
   "metadata": {},
   "source": [
    "### 2.3. Key Differences"
   ]
  },
  {
   "cell_type": "markdown",
   "metadata": {},
   "source": [
    "- **Persistence of Shocks**:\n",
    "  - In AR models, a shock affects the values of the series indefinitely, with decreasing influence over time.\n",
    "  - In MA models, the impact of a shock is limited to the current value and a few subsequent values, depending on the order of the MA process.\n",
    "\n",
    "- **Fitting to Data**:\n",
    "  - AR models are often used when the data shows a slowly decaying autocorrelation function (ACF).\n",
    "  - MA models are preferred when the ACF shows a sharp cut-off after a few lags.\n",
    "\n",
    "- **Interpretation**:\n",
    "  - AR models can capture longer-lasting time series patterns or trends.\n",
    "  - MA models can be more effective for modeling time series that are mainly random with occasional shocks.\n",
    "\n",
    "- **Evaluation**:\n",
    "  - In summary, for AR models, the PACF tells us how many past values to include in the model, while for MA models, the ACF indicates how many past forecast errors to consider.\n",
    "\n",
    "- **Common and Complementary Properties**:\n",
    "  - In an AR model, $ |\\phi_n| < 1 $ prevents past values from influencing the current value too strongly, avoiding a situation where the time series becomes explosive, meaning it would deviate further and further from the mean over time.\n",
    "\n",
    "  - Similarly, in an MA model, $ |\\theta_n| < 1 $ ensures that the impact of past shocks on the current value doesn't escalate indefinitely.\n",
    "\n",
    "  - In both cases, these conditions help to maintain the stationarity of the time series, meaning the series will have a consistent mean, variance, and autocorrelation structure over time. If these coefficients were equal to or greater than one, the series could show non-stationary behavior, where past data points or shocks have ever-increasing effects on future values.\n",
    "\n",
    "- **Combining AR and MA**:\n",
    "  - Both models are foundational in time series analysis and can be combined to form ARMA (Autoregressive Moving Average) models, which can capture more complex time dependencies. The choice between an AR and MA model typically depends on the data's characteristics and the specific patterns you aim to capture.\n"
   ]
  },
  {
   "cell_type": "markdown",
   "metadata": {},
   "source": [
    "## How MA Works?"
   ]
  },
  {
   "cell_type": "code",
   "execution_count": 1,
   "metadata": {},
   "outputs": [
    {
     "data": {
      "text/html": [
       "<div>\n",
       "<style scoped>\n",
       "    .dataframe tbody tr th:only-of-type {\n",
       "        vertical-align: middle;\n",
       "    }\n",
       "\n",
       "    .dataframe tbody tr th {\n",
       "        vertical-align: top;\n",
       "    }\n",
       "\n",
       "    .dataframe thead th {\n",
       "        text-align: right;\n",
       "    }\n",
       "</style>\n",
       "<table border=\"1\" class=\"dataframe\">\n",
       "  <thead>\n",
       "    <tr style=\"text-align: right;\">\n",
       "      <th></th>\n",
       "      <th>True Values</th>\n",
       "      <th>Predictions</th>\n",
       "      <th>Shocks</th>\n",
       "      <th>Errors</th>\n",
       "    </tr>\n",
       "  </thead>\n",
       "  <tbody>\n",
       "    <tr>\n",
       "      <th>2024-01-01</th>\n",
       "      <td>3.0</td>\n",
       "      <td>0.00</td>\n",
       "      <td>0.0</td>\n",
       "      <td>0.00</td>\n",
       "    </tr>\n",
       "    <tr>\n",
       "      <th>2024-01-02</th>\n",
       "      <td>2.5</td>\n",
       "      <td>0.70</td>\n",
       "      <td>0.2</td>\n",
       "      <td>1.80</td>\n",
       "    </tr>\n",
       "    <tr>\n",
       "      <th>2024-01-03</th>\n",
       "      <td>3.5</td>\n",
       "      <td>3.64</td>\n",
       "      <td>1.7</td>\n",
       "      <td>-0.14</td>\n",
       "    </tr>\n",
       "  </tbody>\n",
       "</table>\n",
       "</div>"
      ],
      "text/plain": [
       "            True Values  Predictions  Shocks  Errors\n",
       "2024-01-01          3.0         0.00     0.0    0.00\n",
       "2024-01-02          2.5         0.70     0.2    1.80\n",
       "2024-01-03          3.5         3.64     1.7   -0.14"
      ]
     },
     "execution_count": 1,
     "metadata": {},
     "output_type": "execute_result"
    }
   ],
   "source": [
    "import numpy as np\n",
    "import pandas as pd\n",
    "\n",
    "# Given parameters for the MA(1) model\n",
    "c = 0.5\n",
    "theta_1 = 0.8\n",
    "\n",
    "# Initialize the array for true values, predictions, errors and shocks\n",
    "true_values = [3.0, 2.5, 3.5] # we start with three true values\n",
    "predictions = [0]  # first prediction is initialized to zero\n",
    "errors = [0]  # first error term is initialized to zero\n",
    "shocks = [0, 0.2, 1.7]  \n",
    "\n",
    "# Start generating the model from t=2 since we already have t=1\n",
    "for t in range(1, 3):\n",
    "    # Calculate the predicted value using the MA(1) model\n",
    "    prediction = c + theta_1 * errors[t-1] + shocks[t]\n",
    "    predictions.append(prediction)\n",
    "\n",
    "    # Calculate the error term\n",
    "    error = true_values[t] - prediction\n",
    "    errors.append(error)\n",
    "\n",
    "# Convert the results into a pandas DataFrame for better visualization\n",
    "ma1_results = pd.DataFrame({\n",
    "    'True Values': true_values,\n",
    "    'Predictions': predictions,\n",
    "    'Shocks': shocks,\n",
    "    'Errors': errors \n",
    "}, index=pd.date_range(start='2024-01-01', periods=len(predictions), freq='D'))\n",
    "\n",
    "ma1_results\n"
   ]
  }
 ],
 "metadata": {
  "kernelspec": {
   "display_name": "pytorch",
   "language": "python",
   "name": "python3"
  },
  "language_info": {
   "codemirror_mode": {
    "name": "ipython",
    "version": 3
   },
   "file_extension": ".py",
   "mimetype": "text/x-python",
   "name": "python",
   "nbconvert_exporter": "python",
   "pygments_lexer": "ipython3",
   "version": "3.11.5"
  }
 },
 "nbformat": 4,
 "nbformat_minor": 2
}
