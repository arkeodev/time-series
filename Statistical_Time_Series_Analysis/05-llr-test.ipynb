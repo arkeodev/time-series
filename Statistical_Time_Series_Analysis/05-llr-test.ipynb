{
 "cells": [
  {
   "cell_type": "markdown",
   "metadata": {},
   "source": [
    "<a href=\"https://colab.research.google.com/github/arkeodev/time-series/blob/main/Statistical_Time_Series_Analysis/05-llr-test.ipynb\" target=\"_parent\"><img src=\"https://colab.research.google.com/assets/colab-badge.svg\" alt=\"Open In Colab\"/></a>"
   ]
  },
  {
   "cell_type": "markdown",
   "metadata": {},
   "source": [
    "## 05-LLR Test"
   ]
  },
  {
   "cell_type": "markdown",
   "metadata": {},
   "source": [
    "The LLR test is used in statistics to compare the fit of two models, typically a simpler (nested) model against a more complex one. Here is the code:"
   ]
  },
  {
   "cell_type": "markdown",
   "metadata": {},
   "source": [
    "### Implementation"
   ]
  },
  {
   "cell_type": "code",
   "execution_count": 3,
   "metadata": {},
   "outputs": [
    {
     "name": "stdout",
     "output_type": "stream",
     "text": [
      "LLR Test p-value between AR(1) and AR(2): 0.0\n"
     ]
    }
   ],
   "source": [
    "import numpy as np\n",
    "from scipy.stats import chi2\n",
    "import statsmodels.api as sm\n",
    "\n",
    "# ignore warnings\n",
    "import warnings\n",
    "warnings.filterwarnings(\"ignore\")\n",
    "\n",
    "def LLR_test(mod_1, mod_2, DF=1):\n",
    "    \"\"\"\n",
    "    Perform the Likelihood Ratio Test (LLR) to compare two statistical models.\n",
    "    \n",
    "    Parameters\n",
    "    ----------\n",
    "    mod_1 : statsmodels object\n",
    "        A statistical model (e.g., ARIMA) that implements .fit().llf.\n",
    "    mod_2 : statsmodels object\n",
    "        A second statistical model (e.g., ARIMA) that implements .fit().llf.\n",
    "    DF : int, optional\n",
    "        Degrees of freedom (difference in parameters between the two models).\n",
    "        Default is 1.\n",
    "\n",
    "    Returns\n",
    "    -------\n",
    "    p : float\n",
    "        The p-value obtained from the chi-squared distribution.\n",
    "    \"\"\"\n",
    "    # Fit both models and extract the log-likelihoods\n",
    "    L1 = mod_1.fit().llf  # log-likelihood of the first (simpler) model\n",
    "    L2 = mod_2.fit().llf  # log-likelihood of the second (more complex) model\n",
    "    \n",
    "    # Compute the Likelihood Ratio statistic\n",
    "    # LR = 2 * (log-likelihood of complex model - log-likelihood of simple model)\n",
    "    LR = 2 * (L2 - L1)\n",
    "    \n",
    "    # Compute the p-value using the survival function of the chi-squared distribution\n",
    "    # with DF degrees of freedom\n",
    "    p = chi2.sf(LR, DF).round(3)\n",
    "    return p\n",
    "\n",
    "# -------------------- Example Usage --------------------\n",
    "if __name__ == \"__main__\":\n",
    "    # For demonstration, we'll compare two ARIMA models on some macroeconomic data\n",
    "    # from statsmodels. The dataset includes real GDP over time.\n",
    "    \n",
    "    # Load the dataset\n",
    "    data = sm.datasets.macrodata.load_pandas().data['realgdp']\n",
    "    \n",
    "    # Create two ARIMA models with different orders\n",
    "    # Note: ARIMA(order=(p, d, q)) => p=AR terms, d=differences, q=MA terms\n",
    "    mod_1 = sm.tsa.ARIMA(data, order=(1, 0, 0))  # AR(1)\n",
    "    mod_2 = sm.tsa.ARIMA(data, order=(2, 0, 0))  # AR(2)\n",
    "    \n",
    "    # For these models, the difference in number of parameters is 1\n",
    "    # (because AR(2) has one extra AR parameter compared to AR(1))\n",
    "    p_value = LLR_test(mod_1, mod_2, DF=1)\n",
    "    \n",
    "    # Print the p-value to see if the more complex model (AR(2)) is significantly better\n",
    "    print(f\"LLR Test p-value between AR(1) and AR(2): {p_value}\")"
   ]
  },
  {
   "cell_type": "markdown",
   "metadata": {},
   "source": [
    "The result is a p-value that tells you whether the additional complexity of `complex` significantly improves the fit of the model compared to `simple`. If the p-value is less than a chosen significance level (usually 0.05), you would reject the null hypothesis that `simple` is true, indicating that `complex` provides a significantly better fit to the data."
   ]
  },
  {
   "cell_type": "markdown",
   "metadata": {},
   "source": [
    "### Degrees of Freedom"
   ]
  },
  {
   "cell_type": "markdown",
   "metadata": {},
   "source": [
    "The degrees of freedom (DF) in the context of the Likelihood Ratio Test (LLR test) is the difference in the number of estimated parameters between the two models being compared.\n",
    "\n",
    "For ARIMA models, the parameters are:\n",
    "\n",
    "- The number of AR (autoregressive) terms (p)\n",
    "- The number of differences (d)\n",
    "- The number of MA (moving average) terms (q)\n",
    "\n",
    "In an ARIMA(p, d, q) model, the total number of parameters is `p + q + 1` if a constant or trend term is included in the model, or `p + q` if it is not.\n",
    "\n",
    "Let's think that complex model is the `ARIMA(4,1,2)` model, if a constant is included, there would be `4 (AR) + 2 (MA) + 1 (constant) = 7` parameters.\n",
    "\n",
    "For the simple model `ARIMA(1,1,1)` model, again assuming a constant is included, there would be `1 (AR) + 1 (MA) + 1 (constant) = 3` parameters.\n",
    "\n",
    "The degrees of freedom for the LLR test comparing these two models would then be the difference in the number of parameters:\n",
    "\n",
    "DF = Parameters of ARIMA(4,1,2) - Parameters of ARIMA(1,1,1)\n",
    "DF = 7 - 3\n",
    "DF = 4\n",
    "\n",
    "Therefore, it will be uses `DF = 4` for the LLR test between `ARIMA(4,1,2)` and `ARIMA(1,1,1)`. This represents the additional parameters that `ARIMA(4,1,2)` is using over `ARIMA(1,1,1)`."
   ]
  },
  {
   "cell_type": "markdown",
   "metadata": {},
   "source": [
    "### Nested vs Non-nested Models"
   ]
  },
  {
   "cell_type": "markdown",
   "metadata": {},
   "source": [
    "For the Likelihood Ratio Test (LLR test) to be valid, the models being compared should ideally be nested. This means that one model is a special case of the other when certain parameters are set to zero.\n",
    "\n",
    "Nested models typically have the following relationship:\n",
    "\n",
    "- They are estimated on the same dataset.\n",
    "- The more complex model (with more parameters) reduces to the simpler model under certain parameter restrictions (usually setting some parameters to zero).\n",
    "\n",
    "Now, let's consider the `ARIMA(5,1,1)` and `ARIMA(2,1,4)` models:\n",
    "\n",
    "- `ARIMA(5,1,1)` has 5 AR terms, 1 differencing term, and 1 MA term.\n",
    "- `ARIMA(2,1,4)` has 2 AR terms, 1 differencing term, and 4 MA terms.\n",
    "\n",
    "The number of parameters for each (assuming both have a constant term) is:\n",
    "\n",
    "- For `ARIMA(5,1,1)`: 5 (AR) + 1 (MA) + 1 (constant) = 7 parameters\n",
    "- For `ARIMA(2,1,4)`: 2 (AR) + 4 (MA) + 1 (constant) = 7 parameters\n",
    "\n",
    "Since both models have the same number of parameters, they have the same degrees of freedom when it comes to comparing the estimated parameters. However, they are not nested models because `ARIMA(5,1,1)` cannot be reduced to `ARIMA(2,1,4)` or vice versa by just setting some parameters to zero. Each has different lag orders for the AR and MA components.\n",
    "\n",
    "Therefore, a traditional LLR test may not be appropriate for comparing `ARIMA(5,1,1)` and `ARIMA(2,1,4)` because they are not nested. \n",
    "\n",
    "However, if you still wanted to compare models using some form of likelihood-based approach, you might look at other criteria like Akaike’s Information Criterion (AIC) or Bayesian Information Criterion (BIC), which are suitable for comparing non-nested models. They penalize the likelihood for the number of parameters, so the model with the lower AIC or BIC is considered better in terms of the trade-off between goodness-of-fit and complexity."
   ]
  }
 ],
 "metadata": {
  "kernelspec": {
   "display_name": "pytorch",
   "language": "python",
   "name": "python3"
  },
  "language_info": {
   "codemirror_mode": {
    "name": "ipython",
    "version": 3
   },
   "file_extension": ".py",
   "mimetype": "text/x-python",
   "name": "python",
   "nbconvert_exporter": "python",
   "pygments_lexer": "ipython3",
   "version": "3.11.5"
  }
 },
 "nbformat": 4,
 "nbformat_minor": 2
}
