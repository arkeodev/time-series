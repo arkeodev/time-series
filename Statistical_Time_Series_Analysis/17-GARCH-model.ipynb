{
 "cells": [
  {
   "cell_type": "markdown",
   "metadata": {
    "colab_type": "text",
    "id": "view-in-github"
   },
   "source": [
    "<a href=\"https://colab.research.google.com/github/arkeodev/time-series/blob/main/Statistical_Time_Series_Analysis/17-GARCH-model.ipynb\" target=\"_parent\"><img src=\"https://colab.research.google.com/assets/colab-badge.svg\" alt=\"Open In Colab\"/></a>"
   ]
  },
  {
   "cell_type": "markdown",
   "metadata": {},
   "source": [
    "# GARCH Model"
   ]
  },
  {
   "cell_type": "markdown",
   "metadata": {},
   "source": [
    "## 1. Introduction"
   ]
  },
  {
   "cell_type": "markdown",
   "metadata": {},
   "source": [
    "Generalized Autoregressive Conditional Heteroskedasticity (GARCH) is a statistical model that is used to estimate the volatility of stock returns, currency exchange rates, and other time series data. It is particularly useful in financial applications where volatility tends to cluster, meaning high volatility events tend to be followed by high volatility, and low volatility follows low volatility."
   ]
  },
  {
   "cell_type": "markdown",
   "metadata": {},
   "source": [
    "## 2. Difference Between ARCH and GARCH"
   ]
  },
  {
   "cell_type": "markdown",
   "metadata": {},
   "source": [
    "While both ARCH (Autoregressive Conditional Heteroskedasticity) and GARCH models are used to model financial time series volatility, GARCH extends ARCH by incorporating past variances into the model. This means that GARCH not only uses past squared errors (like ARCH) but also past forecast variances, which allows it to capture the persistence of volatility more effectively."
   ]
  },
  {
   "cell_type": "markdown",
   "metadata": {},
   "source": [
    "## 3. The ARMA-GARCH Model"
   ]
  },
  {
   "cell_type": "markdown",
   "metadata": {},
   "source": [
    "In practice, the ARMA model can be insufficient when dealing with financial time series data, which often exhibits time-varying volatility. This is where combining ARMA with GARCH models becomes useful.\n",
    "\n",
    "The ARMA-GARCH model is a two-part model where the mean of the series is modeled by an ARMA process, and the variance of the series is modeled by a GARCH process.\n",
    "\n",
    "This combined model allows us to forecast the value of the series (using ARMA) while also accounting for volatility patterns (using GARCH).\n",
    "\n",
    "They both involve regression-type components in their formulations, where current values depend on past values or past errors."
   ]
  },
  {
   "cell_type": "markdown",
   "metadata": {},
   "source": [
    "## 4. Mathematical Definition"
   ]
  },
  {
   "cell_type": "markdown",
   "metadata": {},
   "source": [
    "The mathematical foundation of a GARCH(1,1) model is presented through its variance equation. Here’s how to interpret each term in the GARCH variance equation shown:\n",
    "\n",
    "$$\n",
    "\\text{Var}(y_t | y_{t-1}) = \\Omega + \\alpha_1 \\varepsilon^2_{t-1} + \\beta_1 \\sigma^2_{t-1}\n",
    "$$\n",
    "\n",
    "- $ \\text{Var}(y_t | y_{t-1}) $: This represents the conditional variance of the current period's value given the past information up to period $ t-1 $. It's what the GARCH model seeks to estimate.\n",
    "  \n",
    "- $ \\Omega $: This is the constant term in the GARCH model. It's the baseline level of variance when there are no effects from previous periods' shocks or variances.\n",
    "  \n",
    "- $ \\alpha_1 $: This is the coefficient for the lagged squared residual term $ \\varepsilon^2_{t-1} $. It measures the impact of the previous period's shock on the current period's variance.\n",
    "  \n",
    "- $ \\varepsilon^2_{t-1} $: This is the squared residual from the last period, which captures the size of the unexpected shock from the last period.\n",
    "  \n",
    "- $ \\beta_1 $: This is the coefficient for the lagged conditional variance term $ \\sigma^2_{t-1} $. It represents the persistence of volatility from one period to the next.\n",
    "  \n",
    "- $ \\sigma^2_{t-1} $: This is the conditional variance from the last period, representing the estimate of variance in the previous time step.\n",
    "\n",
    "Together, the $ \\alpha $ and $ \\beta $ parameters control the persistence and volatility clustering in the GARCH model. A high value of $ \\alpha_1 $ would mean that the model gives a lot of weight to the last period's shock, while a high value of $ \\beta_1 $ indicates that the volatility tends to persist over time."
   ]
  },
  {
   "cell_type": "markdown",
   "metadata": {},
   "source": [
    "## 5. GARCH (1,1) Model"
   ]
  },
  {
   "cell_type": "markdown",
   "metadata": {},
   "source": [
    "The GARCH (1,1) model is a common choice for modeling financial time series data due to its simplicity and effectiveness in capturing volatility clustering.\n",
    "\n",
    "The model equation typically has the form:\n",
    "\n",
    "$$\n",
    "\\sigma_t^2 = \\alpha_0 + \\alpha_1 \\epsilon_{t-1}^2 + \\beta_1 \\sigma_{t-1}^2\n",
    "$$"
   ]
  },
  {
   "cell_type": "markdown",
   "metadata": {},
   "source": [
    "**Key Points:**\n",
    "\n",
    "1. **Effectiveness of GARCH (1,1):** No higher-order GARCH models significantly outperform the GARCH (1,1) when it comes to modeling the variance of market returns. This means that adding more lagged terms (e.g., GARCH (2,1), GARCH (1,2), etc.) does not necessarily improve the model's ability to predict future volatility.\n",
    "\n",
    "2. **Persistence of Volatility:** The conditional variance from two days ago is fully captured by the conditional variance of yesterday. This implies a strong level of volatility persistence, which is typical in financial time series.\n",
    "\n",
    "3. **Simplicity Over Complexity:** Lastly, there is no need to include more than one GARCH component that a single lag of the conditional variance and squared residual is sufficient for capturing the dynamics in volatility, which aligns with the parsimonious nature of the GARCH (1,1) model."
   ]
  }
 ],
 "metadata": {
  "kernelspec": {
   "display_name": "pytorch",
   "language": "python",
   "name": "python3"
  },
  "language_info": {
   "codemirror_mode": {
    "name": "ipython",
    "version": 3
   },
   "file_extension": ".py",
   "mimetype": "text/x-python",
   "name": "python",
   "nbconvert_exporter": "python",
   "pygments_lexer": "ipython3",
   "version": "3.11.5"
  }
 },
 "nbformat": 4,
 "nbformat_minor": 2
}
