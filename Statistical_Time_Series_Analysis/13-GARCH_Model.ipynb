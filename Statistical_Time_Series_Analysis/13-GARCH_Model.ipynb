{
 "cells": [
  {
    "cell_type": "markdown",
    "metadata": {
      "id": "view-in-github",
      "colab_type": "text"
    },
    "source": [
      "<a href=\"https://colab.research.google.com/github/arkeodev/time-series/blob/main/Statistical_Time_Series_Analysis/13-GARCH_Model.ipynb\" target=\"_parent\"><img src=\"https://colab.research.google.com/assets/colab-badge.svg\" alt=\"Open In Colab\"/></a>"
    ]
  },
  {
   "cell_type": "markdown",
   "metadata": {},
   "source": [
    "# GARCH Model"
   ]
  },
  {
   "cell_type": "markdown",
   "metadata": {},
   "source": [
    "Generalized Autoregressive Conditional Heteroskedasticity (GARCH) is a statistical model that is used to estimate the volatility of stock returns, currency exchange rates, and other time series data. It is particularly useful in financial applications where volatility tends to cluster, meaning high volatility events tend to be followed by high volatility, and low volatility follows low volatility."
   ]
  },
  {
   "cell_type": "markdown",
   "metadata": {},
   "source": [
    "## Difference Between ARCH and GARCH"
   ]
  },
  {
   "cell_type": "markdown",
   "metadata": {},
   "source": [
    "While both ARCH (Autoregressive Conditional Heteroskedasticity) and GARCH models are used to model financial time series volatility, GARCH extends ARCH by incorporating past variances into the model. This means that GARCH not only uses past squared errors (like ARCH) but also past forecast variances, which allows it to capture the persistence of volatility more effectively."
   ]
  },
  {
   "cell_type": "markdown",
   "metadata": {},
   "source": [
    "## The ARMA-GARCH Model"
   ]
  },
  {
   "cell_type": "markdown",
   "metadata": {},
   "source": [
    "In practice, the ARMA model can be insufficient when dealing with financial time series data, which often exhibits time-varying volatility. This is where combining ARMA with GARCH models becomes useful.\n",
    "\n",
    "The ARMA-GARCH model is a two-part model where the mean of the series is modeled by an ARMA process, and the variance of the series is modeled by a GARCH process.\n",
    "\n",
    "This combined model allows us to forecast the value of the series (using ARMA) while also accounting for volatility patterns (using GARCH).\n",
    "\n",
    "They both involve regression-type components in their formulations, where current values depend on past values or past errors."
   ]
  },
  {
   "cell_type": "markdown",
   "metadata": {},
   "source": [
    "## Mathematical Foundation"
   ]
  },
  {
   "cell_type": "markdown",
   "metadata": {},
   "source": [
    "The mathematical foundation of a GARCH(1,1) model is presented through its variance equation. Here’s how to interpret each term in the GARCH variance equation shown:\n",
    "\n",
    "$$\n",
    "\\text{Var}(y_t | y_{t-1}) = \\Omega + \\alpha_1 \\varepsilon^2_{t-1} + \\beta_1 \\sigma^2_{t-1}\n",
    "$$\n",
    "\n",
    "- $ \\text{Var}(y_t | y_{t-1}) $: This represents the conditional variance of the current period's value given the past information up to period $ t-1 $. It's what the GARCH model seeks to estimate.\n",
    "  \n",
    "- $ \\Omega $: This is the constant term in the GARCH model. It's the baseline level of variance when there are no effects from previous periods' shocks or variances.\n",
    "  \n",
    "- $ \\alpha_1 $: This is the coefficient for the lagged squared residual term $ \\varepsilon^2_{t-1} $. It measures the impact of the previous period's shock on the current period's variance.\n",
    "  \n",
    "- $ \\varepsilon^2_{t-1} $: This is the squared residual from the last period, which captures the size of the unexpected shock from the last period.\n",
    "  \n",
    "- $ \\beta_1 $: This is the coefficient for the lagged conditional variance term $ \\sigma^2_{t-1} $. It represents the persistence of volatility from one period to the next.\n",
    "  \n",
    "- $ \\sigma^2_{t-1} $: This is the conditional variance from the last period, representing the estimate of variance in the previous time step.\n",
    "\n",
    "Together, the $ \\alpha $ and $ \\beta $ parameters control the persistence and volatility clustering in the GARCH model. A high value of $ \\alpha_1 $ would mean that the model gives a lot of weight to the last period's shock, while a high value of $ \\beta_1 $ indicates that the volatility tends to persist over time."
   ]
  },
  {
   "cell_type": "markdown",
   "metadata": {},
   "source": [
    "## Implementation"
   ]
  },
  {
   "cell_type": "code",
   "execution_count": 2,
   "metadata": {},
   "outputs": [
    {
     "name": "stdout",
     "output_type": "stream",
     "text": [
      "Optimization terminated successfully    (Exit mode 0)\n",
      "            Current function value: 1406.176296826273\n",
      "            Iterations: 8\n",
      "            Function evaluations: 50\n",
      "            Gradient evaluations: 8\n",
      "                     Constant Mean - GARCH Model Results                      \n",
      "==============================================================================\n",
      "Dep. Variable:                      y   R-squared:                       0.000\n",
      "Mean Model:             Constant Mean   Adj. R-squared:                  0.000\n",
      "Vol Model:                      GARCH   Log-Likelihood:               -1406.18\n",
      "Distribution:                  Normal   AIC:                           2820.35\n",
      "Method:            Maximum Likelihood   BIC:                           2839.98\n",
      "                                        No. Observations:                 1000\n",
      "Date:                Mon, Apr 15 2024   Df Residuals:                      999\n",
      "Time:                        18:30:53   Df Model:                            1\n",
      "                                  Mean Model                                 \n",
      "=============================================================================\n",
      "                 coef    std err          t      P>|t|       95.0% Conf. Int.\n",
      "-----------------------------------------------------------------------------\n",
      "mu            -0.0248  3.113e-02     -0.796      0.426 [-8.578e-02,3.624e-02]\n",
      "                              Volatility Model                             \n",
      "===========================================================================\n",
      "                 coef    std err          t      P>|t|     95.0% Conf. Int.\n",
      "---------------------------------------------------------------------------\n",
      "omega          0.7016      0.150      4.687  2.775e-06    [  0.408,  0.995]\n",
      "alpha[1]       0.0629  3.806e-02      1.652  9.844e-02 [-1.170e-02,  0.137]\n",
      "beta[1]        0.2200      0.154      1.430      0.153 [-8.145e-02,  0.522]\n",
      "===========================================================================\n",
      "\n",
      "Covariance estimator: robust\n"
     ]
    }
   ],
   "source": [
    "import numpy as np\n",
    "from arch import arch_model\n",
    "\n",
    "# Simulated returns\n",
    "returns = np.random.normal(0, 1, 1000)\n",
    "\n",
    "# Fit a GARCH(1, 1) model to our returns\n",
    "garch11 = arch_model(returns, p=1, q=1)\n",
    "res = garch11.fit(update_freq=10)\n",
    "\n",
    "# Display the model summary\n",
    "print(res.summary())"
   ]
  },
  {
   "cell_type": "markdown",
   "metadata": {},
   "source": [
    "## GARCH (1,1) Model"
   ]
  },
  {
   "cell_type": "markdown",
   "metadata": {},
   "source": [
    "The GARCH (1,1) model is a common choice for modeling financial time series data due to its simplicity and effectiveness in capturing volatility clustering.\n",
    "\n",
    "The model equation typically has the form:\n",
    "\n",
    "$$\n",
    "\\sigma_t^2 = \\alpha_0 + \\alpha_1 \\epsilon_{t-1}^2 + \\beta_1 \\sigma_{t-1}^2\n",
    "$$"
   ]
  },
  {
   "cell_type": "markdown",
   "metadata": {},
   "source": [
    "**Key Points:**\n",
    "\n",
    "1. **Effectiveness of GARCH (1,1):** No higher-order GARCH models significantly outperform the GARCH (1,1) when it comes to modeling the variance of market returns. This means that adding more lagged terms (e.g., GARCH (2,1), GARCH (1,2), etc.) does not necessarily improve the model's ability to predict future volatility.\n",
    "\n",
    "2. **Persistence of Volatility:** The conditional variance from two days ago is fully captured by the conditional variance of yesterday. This implies a strong level of volatility persistence, which is typical in financial time series.\n",
    "\n",
    "3. **Simplicity Over Complexity:** Lastly, there is no need to include more than one GARCH component that a single lag of the conditional variance and squared residual is sufficient for capturing the dynamics in volatility, which aligns with the parsimonious nature of the GARCH (1,1) model."
   ]
  },
  {
   "cell_type": "markdown",
   "metadata": {},
   "source": [
    "In summary, the GARCH (1,1) model is a robust tool for modeling financial time series volatility. For many practical applications, especially with market returns, the simplest version of the model is often adequate without the need for more complex variations."
   ]
  }
 ],
 "metadata": {
  "kernelspec": {
   "display_name": "pytorch",
   "language": "python",
   "name": "python3"
  },
  "language_info": {
   "codemirror_mode": {
    "name": "ipython",
    "version": 3
   },
   "file_extension": ".py",
   "mimetype": "text/x-python",
   "name": "python",
   "nbconvert_exporter": "python",
   "pygments_lexer": "ipython3",
   "version": "3.11.5"
  }
 },
 "nbformat": 4,
 "nbformat_minor": 2
}
