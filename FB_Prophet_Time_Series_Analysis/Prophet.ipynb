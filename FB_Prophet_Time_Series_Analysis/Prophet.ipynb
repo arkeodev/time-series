{
 "cells": [
  {
   "cell_type": "markdown",
   "metadata": {},
   "source": [
    "# Time Series Analysis with Meta Prophet"
   ]
  },
  {
   "cell_type": "markdown",
   "metadata": {},
   "source": [
    "Forecasting time series data is a common task in many business domains, including finance, retail, and manufacturing. One of the tools that have emerged as particularly effective and user-friendly for this purpose is Meta Prophet. Prophet is an open-source library developed by Meta's Core Data Science team and is designed to handle the kinds of datasets commonly found in business, which often have strong seasonal patterns and are subject to missing data and outliers."
   ]
  },
  {
   "cell_type": "markdown",
   "metadata": {},
   "source": [
    "## A Quick Introduction"
   ]
  },
  {
   "cell_type": "markdown",
   "metadata": {},
   "source": [
    "Prophet is unique in its approach because it's specifically tailored for business forecasts with the following characteristics:\n",
    "\n",
    "1. **Robustness to Missing Data**: Prophet can handle time series with missing data and will fit the best model it can despite gaps in the time series.\n",
    "\n",
    "2. **Flexibility with Irregular Observations**: Unlike traditional time series models that expect data points at regular intervals, Prophet can work with irregular time series.\n",
    "\n",
    "3. **Accommodation of Seasonality**: The tool automatically detects and accounts for daily, weekly, and yearly seasonal patterns. Additionally, it allows for adding custom seasonality for more granular business cycles, such as fiscal quarters or specific event-driven fluctuations.\n",
    "\n",
    "4. **Ease of Use**: Prophet is designed to have intuitive parameters that can be tuned by those who may not have advanced expertise in time series modeling. This ease of use does not come at the expense of capability, however. The underlying model is powerful, with a fitting process that utilizes Stan, a probabilistic programming language for Bayesian statistical inference.\n",
    "\n",
    "5. **Decomposable Model**: The forecast is decomposed into three main components: trend, seasonality, and holidays. This decomposition allows for easy interpretation and the ability to inspect the influence of each component on the forecast.\n",
    "\n",
    "The core of Prophet's methodology is an additive regression model with four main components:\n",
    "- A piecewise linear or logistic growth curve trend. Prophet automatically detects changes in trends by choosing change points from the data.\n",
    "- A yearly seasonal component modeled using Fourier series.\n",
    "- A weekly seasonal component using dummy variables.\n",
    "- A provision to include holiday effects that occur on irregular schedules, over one or more days.\n",
    "\n",
    "Prophet is also robust to outliers and shifts in the trend and provides intuitive parameters to control these behaviors. This combination of flexibility, robustness, and ease of use makes Prophet an excellent choice for many practical forecasting scenarios."
   ]
  },
  {
   "cell_type": "markdown",
   "metadata": {},
   "source": [
    "## Implementation"
   ]
  },
  {
   "cell_type": "markdown",
   "metadata": {},
   "source": [
    "### A Sample Time Series Dataset (Store Sales - Time Series Forecasting from Kaggle)"
   ]
  },
  {
   "cell_type": "markdown",
   "metadata": {},
   "source": [
    "In this task we'll be using Store Sales Dataset from Kaggle and we will predict sales for the thousands of product families sold at Favorita stores located in Ecuador. The training data includes dates, store and product information, whether that item was being promoted, as well as the sales numbers."
   ]
  },
  {
   "cell_type": "markdown",
   "metadata": {},
   "source": [
    "### File Descriptions and Data Field Information"
   ]
  },
  {
   "cell_type": "markdown",
   "metadata": {},
   "source": [
    "\n",
    " \n",
    "\n",
    "**train.csv**\n",
    "\n",
    "The training data, comprising time series of features `store_nbr`, `family`, and `onpromotion` as well as the `target sales`.\n",
    "\n",
    "`store_nbr`: identifies the store at which the products are sold.\n",
    "\n",
    "`family`: identifies the type of product sold.\n",
    "\n",
    "`sales`: gives the total sales for a product family at a particular store at a given date. Fractional values are possible since products can be sold in fractional units (1.5 kg of cheese, for instance, as opposed to 1 bag of chips).\n",
    "\n",
    "`onpromotion`: gives the total number of items in a product family that were being promoted at a store at a given date.\n",
    "\n",
    "**test.csv**\n",
    "\n",
    "The test data, having the same features as the training data. You will predict the `target sales` for the `dates` in this file.\n",
    "\n",
    "The`dates` in the test data are for the 15 days after the last date in the training data."
   ]
  },
  {
   "cell_type": "markdown",
   "metadata": {},
   "source": []
  }
 ],
 "metadata": {
  "kernelspec": {
   "display_name": "pytorch",
   "language": "python",
   "name": "python3"
  },
  "language_info": {
   "name": "python",
   "version": "3.11.5"
  }
 },
 "nbformat": 4,
 "nbformat_minor": 2
}
